{
  "nbformat": 4,
  "nbformat_minor": 0,
  "metadata": {
    "colab": {
      "name": "MicroBit Onshape Digital Twin.ipynb",
      "provenance": [],
      "collapsed_sections": [],
      "authorship_tag": "ABX9TyOquJTYbjNU4vEYsdvZ1Ywc",
      "include_colab_link": true
    },
    "kernelspec": {
      "name": "python3",
      "display_name": "Python 3"
    },
    "language_info": {
      "name": "python"
    }
  },
  "cells": [
    {
      "cell_type": "markdown",
      "metadata": {
        "id": "view-in-github",
        "colab_type": "text"
      },
      "source": [
        "<a href=\"https://colab.research.google.com/github/PTC-Education/PTC-Education.github.io/blob/master/MicroBit_Onshape_Digital_Twin.ipynb\" target=\"_parent\"><img src=\"https://colab.research.google.com/assets/colab-badge.svg\" alt=\"Open In Colab\"/></a>"
      ]
    },
    {
      "cell_type": "markdown",
      "metadata": {
        "id": "vwbcDwulL1Ck"
      },
      "source": [
        "# Onshape Digital Twin with Microbit\n",
        "\n",
        "Public Onshape document of the Microbit [linked here](https://cad.onshape.com/documents/32703d124184c7b55761b09f/w/d7eb9109a3312be255719dc1/e/857afb03b2be711fe203dcbb). Microbit code for sending accelerometer values over the serial port [linked here](https://makecode.microbit.org/_3LdM96bVWWgX). First download the code onto your Microbit, then unplug the microbit and close the webpage. When connecting over serial, you may need to eject the device you see as a removable drive in order to use "
      ]
    },
    {
      "cell_type": "markdown",
      "metadata": {
        "id": "GQ9q1S-oes5q"
      },
      "source": [
        "## Start Local Runtime\n",
        "\n",
        "Follow the [instructions here](https://research.google.com/colaboratory/local-runtimes.html) for connecting Colab to a local runtime, or download this notebook and run from Jupyter."
      ]
    },
    {
      "cell_type": "markdown",
      "metadata": {
        "id": "vvBEeHUsfpC6"
      },
      "source": [
        "## Import serial library and define functions"
      ]
    },
    {
      "cell_type": "code",
      "metadata": {
        "id": "4H5fWUCQS5Vz"
      },
      "source": [
        "import serial\n",
        "import sys\n",
        "import glob\n",
        "import time\n",
        "\n",
        "def serial_ports():\n",
        "    if sys.platform.startswith('win'):\n",
        "        ports = ['COM%s' % (i + 1) for i in range(256)]\n",
        "    elif sys.platform.startswith('darwin'):\n",
        "        ports = glob.glob('/dev/tty.*')\n",
        "        for port in ports:\n",
        "            if 'usb' in port:\n",
        "                guess = port\n",
        "        return guess\n",
        "    else:\n",
        "        raise EnvironmentError('Unsupported platform')\n",
        "    result = []\n",
        "    for port in ports:\n",
        "        try:\n",
        "            s = serial.Serial(port)\n",
        "            s.close()\n",
        "            result.append(port)\n",
        "        except (OSError, serial.SerialException):\n",
        "            pass\n",
        "    return ports\n",
        "\n",
        "def serial_write(string):\n",
        "    ser.write(string + b'\\r\\n')\n",
        "    time.sleep(0.1)\n",
        "    while ser.in_waiting:  \n",
        "        print(ser.read(ser.in_waiting).decode())\n",
        "        "
      ],
      "execution_count": null,
      "outputs": []
    },
    {
      "cell_type": "markdown",
      "metadata": {
        "id": "JhLXQJTavFGF"
      },
      "source": [
        "Should return \"True\" if the device is connected"
      ]
    },
    {
      "cell_type": "code",
      "metadata": {
        "id": "2aTsSwoEWOWg"
      },
      "source": [
        "port = serial_ports()\n",
        "ser = serial.Serial(\n",
        "    port=port,\n",
        "    baudrate=9600\n",
        ")\n",
        "\n",
        "ser.isOpen()"
      ],
      "execution_count": null,
      "outputs": []
    },
    {
      "cell_type": "markdown",
      "metadata": {
        "id": "rDwnw8DJxHkc"
      },
      "source": [
        "### Define function for getting the accelerometer values into the correct range for the Onshape digital twin"
      ]
    },
    {
      "cell_type": "code",
      "metadata": {
        "id": "Euds-8lMjYCs"
      },
      "source": [
        "def translate(value, leftMin, leftMax, rightMin, rightMax):\n",
        "    # Figure out how 'wide' each range is\n",
        "    leftSpan = leftMax - leftMin\n",
        "    rightSpan = rightMax - rightMin\n",
        "\n",
        "    # Convert the left range into a 0-1 range (float)\n",
        "    valueScaled = float(value - leftMin) / float(leftSpan)\n",
        "\n",
        "    # Convert the 0-1 range into a value in the right range.\n",
        "    return rightMin + (valueScaled * rightSpan)"
      ],
      "execution_count": null,
      "outputs": []
    },
    {
      "cell_type": "markdown",
      "metadata": {
        "id": "7FqFy9zNfPyi"
      },
      "source": [
        "## Import Onshape Client and configure with API Keys"
      ]
    },
    {
      "cell_type": "code",
      "metadata": {
        "id": "iY8jTS3_QcnD"
      },
      "source": [
        "!pip install onshape-client\n",
        "from onshape_client.client import Client\n",
        "import json\n",
        "base = 'https://cad.onshape.com' # change this if you're using a document in an enterprise (i.e. \"https://ptc.onshape.com\")"
      ],
      "execution_count": null,
      "outputs": []
    },
    {
      "cell_type": "markdown",
      "metadata": {
        "id": "AMVH0hmofXVr"
      },
      "source": [
        "Change filepath below to file with your keys. Should be of the form:\n",
        "```\n",
        "access = 'access-key-here'\n",
        "secret = 'secret-key-here'\n",
        "```"
      ]
    },
    {
      "cell_type": "code",
      "metadata": {
        "id": "F7rltAFHShYk"
      },
      "source": [
        "%run '~/Documents/colabkeys.py'\n",
        "client = Client(configuration={\"base_url\": base,\n",
        "                               \"access_key\": access,\n",
        "                               \"secret_key\": secret})\n",
        "print('client configured')"
      ],
      "execution_count": null,
      "outputs": []
    },
    {
      "cell_type": "markdown",
      "metadata": {
        "id": "sgl3zdbOlTfJ"
      },
      "source": [
        "## Define Onshape Functions\n",
        "Make sure you update the DID, WID, and EID to the **assembly** of your Microbit digital twin."
      ]
    },
    {
      "cell_type": "markdown",
      "metadata": {
        "id": "VgqI9_TowDo5"
      },
      "source": [
        "### Transform Onshape model function"
      ]
    },
    {
      "cell_type": "code",
      "metadata": {
        "id": "E6AxdfsklS4i"
      },
      "source": [
        "def rotation(Rx,Ry,Rz):\n",
        "  ## Get assembly occurances\n",
        "  fixed_url = '/api/assemblies/d/did/w/wid/e/eid'\n",
        "\n",
        "  # https://cad.onshape.com/documents/32703d124184c7b55761b09f/w/d7eb9109a3312be255719dc1/e/857afb03b2be711fe203dcbb\n",
        "  did = '32703d124184c7b55761b09f'\n",
        "  wid = 'd7eb9109a3312be255719dc1'\n",
        "  eid = '857afb03b2be711fe203dcbb'\n",
        "\n",
        "  method = 'GET'\n",
        "\n",
        "  params = {'includeNonSolids':True}\n",
        "  payload = {}\n",
        "  headers = {'Accept': 'application/vnd.onshape.v1+json; charset=UTF-8;qs=0.1',\n",
        "            'Content-Type': 'application/json'}\n",
        "\n",
        "  fixed_url = fixed_url.replace('did', did)\n",
        "  fixed_url = fixed_url.replace('wid', wid)\n",
        "  fixed_url = fixed_url.replace('eid', eid)\n",
        "\n",
        "  response = client.api_client.request(method, url=base + fixed_url, query_params=params, headers=headers, body=payload)\n",
        "  # print(response.data)\n",
        "\n",
        "  occurrences = json.loads(response.data)['rootAssembly']['occurrences']\n",
        "\n",
        "  for x in occurrences:\n",
        "      if x['path'][0] == 'MDO8kJV4gZ65wezUr':\n",
        "        diceOccurrence = x\n",
        "        print(diceOccurrence)\n",
        "\n",
        "  # Translate object by x1,y1,z1 in the x,y,z directions\n",
        "  mat = fourByFourToSixteen(numpy.matmul(clockwiseSpinY(Ry),clockwiseSpinX(Rx)))\n",
        "\n",
        "  diceOccurrence['transform'] = mat\n",
        "\n",
        "  ## Send assembly occurence transforms\n",
        "  fixed_url = '/api/assemblies/d/did/w/wid/e/eid/occurrencetransforms'\n",
        "\n",
        "  fixed_url = fixed_url.replace('did', did)\n",
        "  fixed_url = fixed_url.replace('wid', wid)\n",
        "  fixed_url = fixed_url.replace('eid', eid)\n",
        "\n",
        "  method = 'POST'\n",
        "\n",
        "  params = {}\n",
        "  payload = {'isRelative':False,\n",
        "            'occurrences':[diceOccurrence],\n",
        "            'transform':mat}\n",
        "\n",
        "  headers = {'Accept': 'application/vnd.onshape.v1+json; charset=UTF-8;qs=0.1',\n",
        "            'Content-Type': 'application/json'}\n",
        "\n",
        "  response = client.api_client.request(method, url=base + fixed_url, query_params=params, headers=headers, body=payload)\n"
      ],
      "execution_count": null,
      "outputs": []
    },
    {
      "cell_type": "code",
      "metadata": {
        "id": "j9sbPV1Bl7m6"
      },
      "source": [
        "rotation(0.1,0.1,0)"
      ],
      "execution_count": null,
      "outputs": []
    },
    {
      "cell_type": "markdown",
      "metadata": {
        "id": "eeiCc4_ahzAV"
      },
      "source": [
        "### Matrix Library"
      ]
    },
    {
      "cell_type": "code",
      "metadata": {
        "id": "yMZD2qc0bT4k"
      },
      "source": [
        "import math\n",
        "import numpy\n",
        "\n",
        "def IdentitySixteen():\n",
        "  m = [\n",
        "      1, 0, 0, 0,\n",
        "      0, 1, 0, 0,\n",
        "      0, 0, 1, 0,\n",
        "      0, 0, 0, 1\n",
        "      ]\n",
        "  return m\n",
        "\n",
        "def DiceMove(value,x1,y1):\n",
        "  matrix = DiceTransform(value)\n",
        "  matrix[3] = x1\n",
        "  matrix[7] = y1\n",
        "  return matrix\n",
        "\n",
        "def DiceFollow(diceMatrix,tcpMatrix):\n",
        "  diceMatrix[3] = tcpMatrix[3]\n",
        "  diceMatrix[7] = tcpMatrix[7]\n",
        "  diceMatrix[11] = tcpMatrix[11]\n",
        "  return diceMatrix\n",
        "  \n",
        "def sixteenToFourByFour(matrix):\n",
        "  fourbyfour = [[matrix[0],matrix[1],matrix[2],matrix[3]],\n",
        "                [matrix[4],matrix[5],matrix[6],matrix[7]],\n",
        "                [matrix[8],matrix[9],matrix[10],matrix[11]],\n",
        "                [matrix[12],matrix[13],matrix[14],matrix[15]]]\n",
        "  return fourbyfour\n",
        "\n",
        "def fourByFourToSixteen(matrix):\n",
        "  sixteen = [matrix[0][0],matrix[0][1],matrix[0][2],matrix[0][3],\n",
        "             matrix[1][0],matrix[1][1],matrix[1][2],matrix[1][3],\n",
        "             matrix[2][0],matrix[2][1],matrix[2][2],matrix[2][3],\n",
        "             matrix[3][0],matrix[3][1],matrix[3][2],matrix[3][3]]\n",
        "  return sixteen\n",
        "\n",
        "def clockwiseSpinX(theta):\n",
        "  m = [[1, 0, 0, 0],\n",
        "       [0, math.cos(theta), math.sin(theta), 0],\n",
        "       [0, -math.sin(theta), math.cos(theta), 0],\n",
        "       [0, 0, 0, 1]\n",
        "       ]\n",
        "  return m\n",
        "\n",
        "def clockwiseSpinY(theta):\n",
        "  m = [[math.cos(theta), 0, math.sin(theta), 0],\n",
        "       [0, 1, 0, 0],\n",
        "       [-math.sin(theta), 0, math.cos(theta), 0],\n",
        "       [0, 0, 0, 1]\n",
        "       ]\n",
        "  return m\n",
        "\n",
        "def clockwiseSpinZ(theta):\n",
        "  m = [[math.cos(theta), math.sin(theta), 0, 0],\n",
        "       [-math.sin(theta), math.cos(theta), 0, 0],\n",
        "       [0, 0, 1, 0],\n",
        "       [0, 0, 0, 1]]\n",
        "  return m"
      ],
      "execution_count": null,
      "outputs": []
    },
    {
      "cell_type": "markdown",
      "metadata": {
        "id": "W-vHbm7-yXxW"
      },
      "source": [
        "# Main loop"
      ]
    },
    {
      "cell_type": "code",
      "metadata": {
        "id": "Lgex5_i8WXcq"
      },
      "source": [
        "import time\n",
        "while True:\n",
        "  ser.flushInput()\n",
        "  accelerometer = ser.readline().decode()\n",
        "  accelerometer = accelerometer.strip()\n",
        "  try:\n",
        "    rx,ry,rz = accelerometer.split(',')\n",
        "    print(rx,ry,rz)\n",
        "    rz = int(rz)\n",
        "    if rz < 1:\n",
        "      OnshapeRY = translate(int(rx),-1024,1024,-math.pi/2,math.pi/2)\n",
        "      OnshapeRX = translate(int(ry),-1024,1024,math.pi/2,-math.pi/2)\n",
        "      print(OnshapeRX,OnshapeRY)\n",
        "    elif rz > 1:\n",
        "      OnshapeRY = translate(int(rx),-1024,1024,math.pi/2,3*math.pi/2)\n",
        "      OnshapeRX = translate(int(ry),-1024,1024,-math.pi/2,math.pi/2)\n",
        "      print(OnshapeRX,OnshapeRY)\n",
        "    rotation(OnshapeRX,OnshapeRY,OnshapeRZ)\n",
        "  except:\n",
        "    print('mid serial send')"
      ],
      "execution_count": null,
      "outputs": []
    }
  ]
}