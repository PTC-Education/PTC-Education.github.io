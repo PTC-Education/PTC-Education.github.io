{
  "nbformat": 4,
  "nbformat_minor": 0,
  "metadata": {
    "colab": {
      "name": "Motion Simulation GIF Generator",
      "provenance": [],
      "collapsed_sections": [
        "CicGF-zOQL3R",
        "Eh3BvsVoO4ik"
      ],
      "authorship_tag": "ABX9TyNUYQ1q2zuitlfGQ4rG9HdW",
      "include_colab_link": true
    },
    "kernelspec": {
      "name": "python3",
      "display_name": "Python 3"
    },
    "language_info": {
      "name": "python"
    }
  },
  "cells": [
    {
      "cell_type": "markdown",
      "metadata": {
        "id": "view-in-github",
        "colab_type": "text"
      },
      "source": [
        "<a href=\"https://colab.research.google.com/github/PTC-Education/PTC-Education.github.io/blob/master/Motion_Simulation_GIF_Generator.ipynb\" target=\"_parent\"><img src=\"https://colab.research.google.com/assets/colab-badge.svg\" alt=\"Open In Colab\"/></a>"
      ]
    },
    {
      "cell_type": "markdown",
      "metadata": {
        "id": "PCtkEf-NOrq2"
      },
      "source": [
        "# Set up Onshape Client"
      ]
    },
    {
      "cell_type": "code",
      "metadata": {
        "id": "c_ha0MXzo41E"
      },
      "source": [
        "!pip install onshape-client\n",
        "from onshape_client.client import Client\n",
        "import json\n",
        "base = 'https://cad.onshape.com' # change this if you're using a document in an enterprise (i.e. \"https://ptc.onshape.com\")"
      ],
      "execution_count": null,
      "outputs": []
    },
    {
      "cell_type": "code",
      "metadata": {
        "id": "ngKcboUUo5g6"
      },
      "source": [
        "from google.colab import files\n",
        "\n",
        "uploaded = files.upload()\n",
        "for fn in uploaded.keys():\n",
        "  execfile(fn)\n",
        "\n",
        "client = Client(configuration={\"base_url\": base,\n",
        "                               \"access_key\": access,\n",
        "                               \"secret_key\": secret})\n",
        "print('client configured')"
      ],
      "execution_count": null,
      "outputs": []
    },
    {
      "cell_type": "markdown",
      "metadata": {
        "id": "Ub2P5pXPOvyj"
      },
      "source": [
        "# Define Motion Function"
      ]
    },
    {
      "cell_type": "code",
      "metadata": {
        "id": "RpZ-2PQbpbtk"
      },
      "source": [
        "def moveMate(rot):\n",
        "  fixed_url = '/api/assemblies/d/did/w/wid/e/eid/matevalues'\n",
        "\n",
        "  # https://cad.onshape.com/documents/cc9c5cb9912e286856491ca1/w/46ca1ebc66132096757402de/e/b23d54c6d17e2dc553e99171\n",
        "  did = 'cc9c5cb9912e286856491ca1'\n",
        "  wid = '46ca1ebc66132096757402de'\n",
        "  eid = 'b23d54c6d17e2dc553e99171'\n",
        "\n",
        "  method = 'GET'\n",
        "\n",
        "  params = {}\n",
        "  payload = {}\n",
        "  headers = {'Accept': 'application/vnd.onshape.v2+json',\n",
        "              'Content-Type': 'application/vnd.onshape.v2+json'}\n",
        "\n",
        "  fixed_url = fixed_url.replace('did', did)\n",
        "  fixed_url = fixed_url.replace('wid', wid)\n",
        "  fixed_url = fixed_url.replace('eid', eid)\n",
        "\n",
        "  response = client.api_client.request(method, url=base + fixed_url, query_params=params, headers=headers, body=payload)\n",
        "\n",
        "  parsed = json.loads(response.data)\n",
        "  # The command below prints the entire JSON response from Onshape\n",
        "  parsed['mateValues'][0]['rotationZ'] = rot\n",
        "\n",
        "  response = client.api_client.request('POST', url=base + fixed_url, query_params=params, headers=headers, body=parsed)\n",
        "\n",
        "moveMate(1)"
      ],
      "execution_count": null,
      "outputs": []
    },
    {
      "cell_type": "markdown",
      "metadata": {
        "id": "CicGF-zOQL3R"
      },
      "source": [
        "## Inverse Kinematics for 5D robot"
      ]
    },
    {
      "cell_type": "code",
      "metadata": {
        "id": "ne2iC3wmQJ9u"
      },
      "source": [
        "import math\n",
        "import numpy\n",
        "DegToRad = math.pi/180\n",
        "RadToDeg = 180/math.pi\n",
        "\n",
        "FloorToFirstJoint = 2.61*0.0254\n",
        "UpperArmLength = 5.74*0.0254\n",
        "ForeArmLength = 7.23*0.0254\n",
        "GripperLength = 4.43*0.0254\n",
        "\n",
        "def GetJointAngles(TCPx,TCPy,TCPz,WristAngleIn):\n",
        "  BaseAngle = math.atan2(TCPx,TCPy)\n",
        "\n",
        "  TCPq = math.sqrt(TCPx**2 + TCPy**2)\n",
        "  TCPp = TCPz - FloorToFirstJoint\n",
        "\n",
        "  WristQ = TCPq - GripperLength*math.cos(WristAngleIn*DegToRad)\n",
        "  WristP = TCPp + GripperLength*math.sin(WristAngleIn*DegToRad)\n",
        "\n",
        "  D2 = math.sqrt(WristP**2 + WristQ**2)\n",
        "  print(WristQ,WristP)\n",
        "\n",
        "  ElbowAngle = math.acos((WristP**2 + WristQ**2 - UpperArmLength**2 - ForeArmLength**2)/(2*UpperArmLength*ForeArmLength))\n",
        "\n",
        "  a1 = math.atan2(ForeArmLength*math.sin(ElbowAngle),UpperArmLength + ForeArmLength*math.cos(ElbowAngle))\n",
        "  a2 = math.atan2(WristP,WristQ)\n",
        "  ShoulderAngle = a1 + a2\n",
        "\n",
        "  WristAngleOut = ShoulderAngle - ElbowAngle + WristAngleIn*DegToRad + math.pi/2\n",
        "\n",
        "  print(numpy.dot([BaseAngle, ShoulderAngle, ElbowAngle, WristAngleOut],RadToDeg))\n",
        "  return [BaseAngle, ShoulderAngle, ElbowAngle, WristAngleOut]"
      ],
      "execution_count": null,
      "outputs": []
    },
    {
      "cell_type": "markdown",
      "metadata": {
        "id": "jYi9ouuOQVWl"
      },
      "source": [
        "## Set Mate Values of robot arm assembly"
      ]
    },
    {
      "cell_type": "code",
      "metadata": {
        "id": "Mmes4U5EQX2G"
      },
      "source": [
        "def getMateValues():\n",
        "  RobotData = []\n",
        "  RobotData = [0 for i in range(6)]\n",
        "  fixed_url = '/api/assemblies/d/did/w/wid/e/eid/matevalues'\n",
        "\n",
        "  # https://cad.onshape.com/documents/4bda16c648566259ea1b4e4c/w/c299b9fc994574c2637e871d/e/2f52bf4870f9d7ddc900b4de\n",
        "  did = '4bda16c648566259ea1b4e4c'\n",
        "  wid = 'c299b9fc994574c2637e871d'\n",
        "  eid = '2f52bf4870f9d7ddc900b4de'\n",
        "\n",
        "  method = 'GET'\n",
        "\n",
        "  params = {}\n",
        "  payload = {}\n",
        "  headers = {'Accept': 'application/vnd.onshape.v2+json',\n",
        "            'Content-Type': 'application/vnd.onshape.v2+json'}\n",
        "\n",
        "  fixed_url = fixed_url.replace('did', did)\n",
        "  fixed_url = fixed_url.replace('wid', wid)\n",
        "  fixed_url = fixed_url.replace('eid', eid)\n",
        "\n",
        "  response = client.api_client.request(method, url=base + fixed_url, query_params=params, headers=headers, body=payload)\n",
        "  fullResponse = json.loads(response.data)\n",
        "\n",
        "  for i in range(len(fullResponse[\"mateValues\"])):\n",
        "    if fullResponse['mateValues'][i]['mateName'] == \"Base\":\n",
        "      RobotData[0] = int(translate(fullResponse['mateValues'][i]['rotationZ'],0,3.14,500,2500))\n",
        "    elif fullResponse['mateValues'][i]['mateName'] == \"Shoulder\":\n",
        "      RobotData[1] = int(translate(fullResponse['mateValues'][i]['rotationZ'],0,3.14,500,2500))\n",
        "    elif fullResponse['mateValues'][i]['mateName'] == \"Elbow\":\n",
        "      RobotData[2] = int(translate(fullResponse['mateValues'][i]['rotationZ'],0,3.14,500,2500))-70\n",
        "    elif fullResponse['mateValues'][i]['mateName'] == \"Wrist\":\n",
        "      RobotData[3] = int(translate(fullResponse['mateValues'][i]['rotationZ'],0,3.14,2500,500))+50\n",
        "    elif fullResponse['mateValues'][i]['mateName'] == \"Hand\":\n",
        "      RobotData[4] = int(translate(fullResponse['mateValues'][i]['rotationZ'],0,3.14,500,2500))\n",
        "    elif fullResponse['mateValues'][i]['mateName'] == \"Gripper\":\n",
        "      RobotData[5] = int(translate(fullResponse['mateValues'][i]['rotationZ'],0,3.14,500,2500))\n",
        "  \n",
        "  return RobotData\n",
        "\n",
        "def setMateValues(baseAngle,shoulderAngle,elbowAngle,wristAngle,handAngle,gripperAngle):\n",
        "  fixed_url = '/api/assemblies/d/did/w/wid/e/eid/matevalues'\n",
        "\n",
        "  # https://cad.onshape.com/documents/4bda16c648566259ea1b4e4c/w/c299b9fc994574c2637e871d/e/2f52bf4870f9d7ddc900b4de\n",
        "  did = '4bda16c648566259ea1b4e4c'\n",
        "  wid = 'c299b9fc994574c2637e871d'\n",
        "  eid = '2f52bf4870f9d7ddc900b4de'\n",
        "\n",
        "  method = 'GET'\n",
        "\n",
        "  params = {}\n",
        "  payload = {}\n",
        "  headers = {'Accept': 'application/vnd.onshape.v2+json',\n",
        "            'Content-Type': 'application/vnd.onshape.v2+json'}\n",
        "\n",
        "  fixed_url = fixed_url.replace('did', did)\n",
        "  fixed_url = fixed_url.replace('wid', wid)\n",
        "  fixed_url = fixed_url.replace('eid', eid)\n",
        "\n",
        "  response = client.api_client.request(method, url=base + fixed_url, query_params=params, headers=headers, body=payload)\n",
        "  fullResponse = json.loads(response.data)\n",
        "  \n",
        "  for i in range(len(fullResponse[\"mateValues\"])):\n",
        "    if fullResponse['mateValues'][i]['mateName'] == \"Base\":\n",
        "      print(fullResponse['mateValues'][i])\n",
        "      fullResponse['mateValues'][i]['rotationZ'] = baseAngle\n",
        "      print(fullResponse['mateValues'][i])\n",
        "\n",
        "  method = 'POST'\n",
        "\n",
        "  params = {}\n",
        "  payload = fullResponse\n",
        "  headers = {'Accept': 'application/vnd.onshape.v2+json',\n",
        "            'Content-Type': 'application/vnd.onshape.v2+json'}\n",
        "  response = client.api_client.request(method, url=base + fixed_url, query_params=params, headers=headers, body=payload)\n",
        "\n",
        "  for i in range(len(fullResponse[\"mateValues\"])):\n",
        "    if fullResponse['mateValues'][i]['mateName'] == \"Shoulder\":\n",
        "      fullResponse['mateValues'][i]['rotationZ'] = shoulderAngle\n",
        "    elif fullResponse['mateValues'][i]['mateName'] == \"Elbow\":\n",
        "      fullResponse['mateValues'][i]['rotationZ'] = elbowAngle\n",
        "    elif fullResponse['mateValues'][i]['mateName'] == \"Wrist\":\n",
        "      fullResponse['mateValues'][i]['rotationZ'] = wristAngle\n",
        "    elif fullResponse['mateValues'][i]['mateName'] == \"Hand\":\n",
        "      fullResponse['mateValues'][i]['rotationZ'] = handAngle\n",
        "    elif fullResponse['mateValues'][i]['mateName'] == \"Gripper\":\n",
        "      fullResponse['mateValues'][i]['rotationZ'] = gripperAngle\n",
        "\n",
        "  method = 'POST'\n",
        "\n",
        "  params = {}\n",
        "  payload = fullResponse\n",
        "  headers = {'Accept': 'application/vnd.onshape.v2+json',\n",
        "            'Content-Type': 'application/vnd.onshape.v2+json'}\n",
        "  response = client.api_client.request(method, url=base + fixed_url, query_params=params, headers=headers, body=payload)\n",
        "  # The command below prints the entire JSON response from Onshape\n",
        "  print(response.status)\n",
        "\n",
        "def loadFullResponse():\n",
        "  fixed_url = '/api/assemblies/d/did/w/wid/e/eid/matevalues'\n",
        "\n",
        "  # https://cad.onshape.com/documents/4bda16c648566259ea1b4e4c/w/c299b9fc994574c2637e871d/e/2f52bf4870f9d7ddc900b4de\n",
        "  did = '4bda16c648566259ea1b4e4c'\n",
        "  wid = 'c299b9fc994574c2637e871d'\n",
        "  eid = '2f52bf4870f9d7ddc900b4de'\n",
        "\n",
        "  method = 'GET'\n",
        "\n",
        "  params = {}\n",
        "  payload = {}\n",
        "  headers = {'Accept': 'application/vnd.onshape.v2+json',\n",
        "            'Content-Type': 'application/vnd.onshape.v2+json'}\n",
        "\n",
        "  fixed_url = fixed_url.replace('did', did)\n",
        "  fixed_url = fixed_url.replace('wid', wid)\n",
        "  fixed_url = fixed_url.replace('eid', eid)\n",
        "\n",
        "  response = client.api_client.request(method, url=base + fixed_url, query_params=params, headers=headers, body=payload)\n",
        "  fullResponse = json.loads(response.data)\n",
        "\n",
        "  return fullResponse\n",
        "\n",
        "def translate(value, leftMin, leftMax, rightMin, rightMax):\n",
        "  # Figure out how 'wide' each range is\n",
        "  leftSpan = leftMax - leftMin\n",
        "  rightSpan = rightMax - rightMin\n",
        "\n",
        "  # Convert the left range into a 0-1 range (float)\n",
        "  valueScaled = float(value - leftMin) / float(leftSpan)\n",
        "\n",
        "  # Convert the 0-1 range into a value in the right range.\n",
        "  return rightMin + (valueScaled * rightSpan)"
      ],
      "execution_count": null,
      "outputs": []
    },
    {
      "cell_type": "markdown",
      "metadata": {
        "id": "H9yN_vWEQgcO"
      },
      "source": [
        "## Generate array of positions"
      ]
    },
    {
      "cell_type": "code",
      "metadata": {
        "id": "OpO08Wp-Qf9F"
      },
      "source": [
        "import math\n",
        "posArray = []\n",
        "for i in range(15):\n",
        "  posArray.append(translate(i,0,15,math.pi/4,3*math.pi/4))\n",
        "\n",
        "print(posArray)\n",
        "FullArray = []\n",
        "\n",
        "for i in range(6):\n",
        "  FullArray.append(posArray)\n",
        "print(len(FullArray[0]))\n",
        "print(FullArray[0][0],FullArray[5][0])"
      ],
      "execution_count": null,
      "outputs": []
    },
    {
      "cell_type": "markdown",
      "metadata": {
        "id": "Eh3BvsVoO4ik"
      },
      "source": [
        "## Get the names views of the element if there are any"
      ]
    },
    {
      "cell_type": "code",
      "metadata": {
        "id": "jl_NfKI-Qr3F"
      },
      "source": [
        "fixed_url = '/api/assemblies/d/did/e/eid/namedViews'\n",
        "\n",
        "# https://cad.onshape.com/documents/cc9c5cb9912e286856491ca1/w/46ca1ebc66132096757402de/e/b23d54c6d17e2dc553e99171\n",
        "did = 'cc9c5cb9912e286856491ca1'\n",
        "wid = '46ca1ebc66132096757402de'\n",
        "eid = 'b23d54c6d17e2dc553e99171'\n",
        "\n",
        "method = 'GET'\n",
        "\n",
        "params = {}\n",
        "payload = {}\n",
        "headers = {'Accept': 'application/vnd.onshape.v1+json',\n",
        "            'Content-Type': 'application/json'}\n",
        "\n",
        "fixed_url = fixed_url.replace('did', did)\n",
        "fixed_url = fixed_url.replace('wid', wid)\n",
        "fixed_url = fixed_url.replace('eid', eid)\n",
        "\n",
        "response = client.api_client.request(method, url=base + fixed_url, query_params=params, headers=headers, body=payload)\n",
        "print(response.data)\n",
        "\n",
        "parsed = json.loads(response.data)\n",
        "# The command below prints the entire JSON response from Onshape"
      ],
      "execution_count": null,
      "outputs": []
    },
    {
      "cell_type": "markdown",
      "metadata": {
        "id": "WeiPE1faPDdO"
      },
      "source": [
        "# Get shaded view of model"
      ]
    },
    {
      "cell_type": "code",
      "metadata": {
        "id": "MwbM1Yu_NN_d"
      },
      "source": [
        "import base64\n",
        "def shadedViews(filename):\n",
        "  fixed_url = '/api/assemblies/d/did/w/wid/e/eid/shadedviews'\n",
        "\n",
        "  # https://cad.onshape.com/documents/4bda16c648566259ea1b4e4c/w/c299b9fc994574c2637e871d/e/2f52bf4870f9d7ddc900b4de\n",
        "  did = '4bda16c648566259ea1b4e4c'\n",
        "  wid = 'c299b9fc994574c2637e871d'\n",
        "  eid = '2f52bf4870f9d7ddc900b4de'\n",
        "\n",
        "  method = 'GET'\n",
        "\n",
        "  ## View Matrix below is roughly isometric\n",
        "  params = {'viewMatrix':'0.612,0.612,0,-0.2,-0.354,0.354,0.707,-0.1,0.707,-0.707,0.707,0',\n",
        "            'edges':'show',\n",
        "            'outputHeight':600,\n",
        "            'outputWidth':1000,\n",
        "            'pixelSize':0.001}\n",
        "  payload = {}\n",
        "  headers = {'Accept': 'application/vnd.onshape.v1+json',\n",
        "              'Content-Type': 'application/json'}\n",
        "\n",
        "  fixed_url = fixed_url.replace('did', did)\n",
        "  fixed_url = fixed_url.replace('wid', wid)\n",
        "  fixed_url = fixed_url.replace('eid', eid)\n",
        "\n",
        "  response = client.api_client.request(method, url=base + fixed_url, query_params=params, headers=headers, body=payload)\n",
        "\n",
        "  parsed = json.loads(response.data)\n",
        "\n",
        "  imgdata = base64.b64decode(parsed['images'][0])\n",
        "  \n",
        "  # return imgdata\n",
        "  with open(filename, 'wb') as f:\n",
        "      f.write(imgdata)"
      ],
      "execution_count": null,
      "outputs": []
    },
    {
      "cell_type": "code",
      "metadata": {
        "id": "XgSJT8UTkLzS"
      },
      "source": [
        "shadedViews('image.jpg')"
      ],
      "execution_count": null,
      "outputs": []
    },
    {
      "cell_type": "code",
      "metadata": {
        "id": "ipC6qOrijTDN"
      },
      "source": [
        "from PIL import Image\n",
        "\n",
        "def gen_frame(path):\n",
        "    im = Image.open(path)\n",
        "    alpha = im.getchannel('A')\n",
        "\n",
        "    # Convert the image into P mode but only use 255 colors in the palette out of 256\n",
        "    im = im.convert('RGB').convert('P', palette=Image.ADAPTIVE, colors=255)\n",
        "\n",
        "    # Set all pixel values below 128 to 255 , and the rest to 0\n",
        "    mask = Image.eval(alpha, lambda a: 255 if a <=128 else 0)\n",
        "\n",
        "    # Paste the color of index 255 and use alpha as a mask\n",
        "    im.paste(255, mask)\n",
        "\n",
        "    # The transparency index is 255\n",
        "    im.info['transparency'] = 255\n",
        "\n",
        "    return im\n",
        "\n",
        "\n",
        "# im1 = gen_frame('frame1.png')\n",
        "# im2 = gen_frame('frame2.png')        \n",
        "# im1.save('GIF.gif', save_all=True, append_images=[im2], loop=5, duration=200)\n",
        "\n"
      ],
      "execution_count": null,
      "outputs": []
    },
    {
      "cell_type": "code",
      "metadata": {
        "id": "7vI8_M6x8-lr"
      },
      "source": [
        "for i in range(len(FullArray[0])):\n",
        "  setMateValues(FullArray[0][i],FullArray[1][i],FullArray[2][i],FullArray[3][i],FullArray[4][i],FullArray[5][i])\n",
        "  images.append(imageio.imread(io.BytesIO(base64.b64decode(gen_frame()))))"
      ],
      "execution_count": null,
      "outputs": []
    },
    {
      "cell_type": "code",
      "metadata": {
        "id": "pdUEi4F76z_F"
      },
      "source": [
        "import time\n",
        "images = []\n",
        "\n",
        "fullResponse = loadFullResponse()\n",
        "for i in range(len(FullArray[0])):\n",
        "  setMateValues(FullArray[0][i],FullArray[1][i],FullArray[2][i],FullArray[3][i],FullArray[4][i],FullArray[5][i])\n",
        "  shadedViews(\"image\"+str(i)+\".jpg\")\n",
        "  images.append(gen_frame(\"image\"+str(i)+\".jpg\"))\n",
        "\n",
        "im1 = gen_frame(\"image0.jpg\")\n",
        "im1.save('OnshapeGIF.gif', save_all=True, loop = 500, append_images=images, disposal=2, duration=200)\n",
        "\n"
      ],
      "execution_count": null,
      "outputs": []
    }
  ]
}