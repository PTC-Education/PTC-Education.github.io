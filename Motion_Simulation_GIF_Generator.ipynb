{
  "nbformat": 4,
  "nbformat_minor": 0,
  "metadata": {
    "colab": {
      "name": "Motion Simulation GIF Generator",
      "provenance": [],
      "collapsed_sections": [],
      "authorship_tag": "ABX9TyOdRz+D0D+QoLcjsHVYC4Wj",
      "include_colab_link": true
    },
    "kernelspec": {
      "name": "python3",
      "display_name": "Python 3"
    },
    "language_info": {
      "name": "python"
    }
  },
  "cells": [
    {
      "cell_type": "markdown",
      "metadata": {
        "id": "view-in-github",
        "colab_type": "text"
      },
      "source": [
        "<a href=\"https://colab.research.google.com/github/PTC-Education/PTC-Education.github.io/blob/master/Motion_Simulation_GIF_Generator.ipynb\" target=\"_parent\"><img src=\"https://colab.research.google.com/assets/colab-badge.svg\" alt=\"Open In Colab\"/></a>"
      ]
    },
    {
      "cell_type": "markdown",
      "metadata": {
        "id": "PCtkEf-NOrq2"
      },
      "source": [
        "# Set up Onshape Client"
      ]
    },
    {
      "cell_type": "code",
      "metadata": {
        "id": "c_ha0MXzo41E",
        "colab": {
          "base_uri": "https://localhost:8080/"
        },
        "outputId": "b75c71be-31b5-4a92-e79d-715d23c50260"
      },
      "source": [
        "!pip install onshape-client\n",
        "from onshape_client.client import Client\n",
        "import json\n",
        "base = 'https://cad.onshape.com' # change this if you're using a document in an enterprise (i.e. \"https://ptc.onshape.com\")"
      ],
      "execution_count": 1,
      "outputs": [
        {
          "output_type": "stream",
          "text": [
            "Collecting onshape-client\n",
            "  Downloading onshape_client-1.6.3-py3-none-any.whl (2.1 MB)\n",
            "\u001b[K     |████████████████████████████████| 2.1 MB 16.3 MB/s \n",
            "\u001b[?25hRequirement already satisfied: six>=1.10 in /usr/local/lib/python3.7/dist-packages (from onshape-client) (1.15.0)\n",
            "Requirement already satisfied: requests-oauthlib in /usr/local/lib/python3.7/dist-packages (from onshape-client) (1.3.0)\n",
            "Requirement already satisfied: python-dateutil>=2.1 in /usr/local/lib/python3.7/dist-packages (from onshape-client) (2.8.1)\n",
            "Collecting pint\n",
            "  Downloading Pint-0.17-py2.py3-none-any.whl (204 kB)\n",
            "\u001b[K     |████████████████████████████████| 204 kB 50.6 MB/s \n",
            "\u001b[?25hCollecting nulltype\n",
            "  Downloading nulltype-2.3.1-py2.py3-none-any.whl (11 kB)\n",
            "Requirement already satisfied: certifi>=2017.4.17 in /usr/local/lib/python3.7/dist-packages (from onshape-client) (2021.5.30)\n",
            "Collecting ruamel.yaml\n",
            "  Downloading ruamel.yaml-0.17.10-py3-none-any.whl (108 kB)\n",
            "\u001b[K     |████████████████████████████████| 108 kB 49.8 MB/s \n",
            "\u001b[?25hRequirement already satisfied: urllib3>=1.23 in /usr/local/lib/python3.7/dist-packages (from onshape-client) (1.24.3)\n",
            "Requirement already satisfied: packaging in /usr/local/lib/python3.7/dist-packages (from pint->onshape-client) (21.0)\n",
            "Requirement already satisfied: importlib-metadata in /usr/local/lib/python3.7/dist-packages (from pint->onshape-client) (4.6.1)\n",
            "Requirement already satisfied: typing-extensions>=3.6.4 in /usr/local/lib/python3.7/dist-packages (from importlib-metadata->pint->onshape-client) (3.7.4.3)\n",
            "Requirement already satisfied: zipp>=0.5 in /usr/local/lib/python3.7/dist-packages (from importlib-metadata->pint->onshape-client) (3.5.0)\n",
            "Requirement already satisfied: pyparsing>=2.0.2 in /usr/local/lib/python3.7/dist-packages (from packaging->pint->onshape-client) (2.4.7)\n",
            "Requirement already satisfied: requests>=2.0.0 in /usr/local/lib/python3.7/dist-packages (from requests-oauthlib->onshape-client) (2.23.0)\n",
            "Requirement already satisfied: oauthlib>=3.0.0 in /usr/local/lib/python3.7/dist-packages (from requests-oauthlib->onshape-client) (3.1.1)\n",
            "Requirement already satisfied: idna<3,>=2.5 in /usr/local/lib/python3.7/dist-packages (from requests>=2.0.0->requests-oauthlib->onshape-client) (2.10)\n",
            "Requirement already satisfied: chardet<4,>=3.0.2 in /usr/local/lib/python3.7/dist-packages (from requests>=2.0.0->requests-oauthlib->onshape-client) (3.0.4)\n",
            "Collecting ruamel.yaml.clib>=0.1.2\n",
            "  Downloading ruamel.yaml.clib-0.2.6-cp37-cp37m-manylinux1_x86_64.whl (546 kB)\n",
            "\u001b[K     |████████████████████████████████| 546 kB 34.3 MB/s \n",
            "\u001b[?25hInstalling collected packages: ruamel.yaml.clib, ruamel.yaml, pint, nulltype, onshape-client\n",
            "Successfully installed nulltype-2.3.1 onshape-client-1.6.3 pint-0.17 ruamel.yaml-0.17.10 ruamel.yaml.clib-0.2.6\n"
          ],
          "name": "stdout"
        }
      ]
    },
    {
      "cell_type": "code",
      "metadata": {
        "id": "ngKcboUUo5g6",
        "colab": {
          "resources": {
            "http://localhost:8080/nbextensions/google.colab/files.js": {
              "data": "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",
              "ok": true,
              "headers": [
                [
                  "content-type",
                  "application/javascript"
                ]
              ],
              "status": 200,
              "status_text": ""
            }
          },
          "base_uri": "https://localhost:8080/",
          "height": 89
        },
        "outputId": "f91a804d-8df5-44ee-8235-46e13bfc641f"
      },
      "source": [
        "from google.colab import files\n",
        "\n",
        "uploaded = files.upload()\n",
        "for fn in uploaded.keys():\n",
        "  execfile(fn)\n",
        "\n",
        "client = Client(configuration={\"base_url\": base,\n",
        "                               \"access_key\": access,\n",
        "                               \"secret_key\": secret})\n",
        "print('client configured')"
      ],
      "execution_count": 2,
      "outputs": [
        {
          "output_type": "display_data",
          "data": {
            "text/html": [
              "\n",
              "     <input type=\"file\" id=\"files-034ee51b-a314-4ec3-8366-678edd0c5545\" name=\"files[]\" multiple disabled\n",
              "        style=\"border:none\" />\n",
              "     <output id=\"result-034ee51b-a314-4ec3-8366-678edd0c5545\">\n",
              "      Upload widget is only available when the cell has been executed in the\n",
              "      current browser session. Please rerun this cell to enable.\n",
              "      </output>\n",
              "      <script src=\"/nbextensions/google.colab/files.js\"></script> "
            ],
            "text/plain": [
              "<IPython.core.display.HTML object>"
            ]
          },
          "metadata": {
            "tags": []
          }
        },
        {
          "output_type": "stream",
          "text": [
            "Saving colabkeys.py to colabkeys.py\n",
            "client configured\n"
          ],
          "name": "stdout"
        }
      ]
    },
    {
      "cell_type": "markdown",
      "metadata": {
        "id": "Ub2P5pXPOvyj"
      },
      "source": [
        "# Define Motion Function"
      ]
    },
    {
      "cell_type": "code",
      "metadata": {
        "id": "RpZ-2PQbpbtk"
      },
      "source": [
        "def moveMate(rot):\n",
        "  fixed_url = '/api/assemblies/d/did/w/wid/e/eid/matevalues'\n",
        "\n",
        "  # https://cad.onshape.com/documents/cc9c5cb9912e286856491ca1/w/46ca1ebc66132096757402de/e/b23d54c6d17e2dc553e99171\n",
        "  did = 'cc9c5cb9912e286856491ca1'\n",
        "  wid = '46ca1ebc66132096757402de'\n",
        "  eid = 'b23d54c6d17e2dc553e99171'\n",
        "\n",
        "  method = 'GET'\n",
        "\n",
        "  params = {}\n",
        "  payload = {}\n",
        "  headers = {'Accept': 'application/vnd.onshape.v2+json',\n",
        "              'Content-Type': 'application/vnd.onshape.v2+json'}\n",
        "\n",
        "  fixed_url = fixed_url.replace('did', did)\n",
        "  fixed_url = fixed_url.replace('wid', wid)\n",
        "  fixed_url = fixed_url.replace('eid', eid)\n",
        "\n",
        "  response = client.api_client.request(method, url=base + fixed_url, query_params=params, headers=headers, body=payload)\n",
        "\n",
        "  parsed = json.loads(response.data)\n",
        "  # The command below prints the entire JSON response from Onshape\n",
        "  parsed['mateValues'][0]['rotationZ'] = rot\n",
        "\n",
        "  response = client.api_client.request('POST', url=base + fixed_url, query_params=params, headers=headers, body=parsed)\n",
        "\n",
        "moveMate(1)"
      ],
      "execution_count": null,
      "outputs": []
    },
    {
      "cell_type": "markdown",
      "metadata": {
        "id": "CicGF-zOQL3R"
      },
      "source": [
        "## Inverse Kinematics for 5D robot"
      ]
    },
    {
      "cell_type": "code",
      "metadata": {
        "id": "ne2iC3wmQJ9u"
      },
      "source": [
        "import math\n",
        "import numpy\n",
        "DegToRad = math.pi/180\n",
        "RadToDeg = 180/math.pi\n",
        "\n",
        "FloorToFirstJoint = 2.61*0.0254\n",
        "UpperArmLength = 5.74*0.0254\n",
        "ForeArmLength = 7.23*0.0254\n",
        "GripperLength = 4.43*0.0254\n",
        "\n",
        "def GetJointAngles(TCPx,TCPy,TCPz,WristAngleIn):\n",
        "  BaseAngle = math.atan2(TCPx,TCPy)\n",
        "\n",
        "  TCPq = math.sqrt(TCPx**2 + TCPy**2)\n",
        "  TCPp = TCPz - FloorToFirstJoint\n",
        "\n",
        "  WristQ = TCPq - GripperLength*math.cos(WristAngleIn*DegToRad)\n",
        "  WristP = TCPp + GripperLength*math.sin(WristAngleIn*DegToRad)\n",
        "\n",
        "  D2 = math.sqrt(WristP**2 + WristQ**2)\n",
        "  print(WristQ,WristP)\n",
        "\n",
        "  ElbowAngle = math.acos((WristP**2 + WristQ**2 - UpperArmLength**2 - ForeArmLength**2)/(2*UpperArmLength*ForeArmLength))\n",
        "\n",
        "  a1 = math.atan2(ForeArmLength*math.sin(ElbowAngle),UpperArmLength + ForeArmLength*math.cos(ElbowAngle))\n",
        "  a2 = math.atan2(WristP,WristQ)\n",
        "  ShoulderAngle = a1 + a2\n",
        "\n",
        "  WristAngleOut = ShoulderAngle - ElbowAngle + WristAngleIn*DegToRad + math.pi/2\n",
        "\n",
        "  print(numpy.dot([BaseAngle, ShoulderAngle, ElbowAngle, WristAngleOut],RadToDeg))\n",
        "  return [BaseAngle, ShoulderAngle, ElbowAngle, WristAngleOut]"
      ],
      "execution_count": null,
      "outputs": []
    },
    {
      "cell_type": "markdown",
      "metadata": {
        "id": "jYi9ouuOQVWl"
      },
      "source": [
        "## Set Mate Values of robot arm assembly"
      ]
    },
    {
      "cell_type": "code",
      "metadata": {
        "id": "Mmes4U5EQX2G"
      },
      "source": [
        "def getMateValues():\n",
        "  RobotData = []\n",
        "  RobotData = [0 for i in range(6)]\n",
        "  fixed_url = '/api/assemblies/d/did/w/wid/e/eid/matevalues'\n",
        "\n",
        "  # https://cad.onshape.com/documents/4bda16c648566259ea1b4e4c/w/c299b9fc994574c2637e871d/e/2f52bf4870f9d7ddc900b4de\n",
        "  did = '4bda16c648566259ea1b4e4c'\n",
        "  wid = 'c299b9fc994574c2637e871d'\n",
        "  eid = '2f52bf4870f9d7ddc900b4de'\n",
        "\n",
        "  method = 'GET'\n",
        "\n",
        "  params = {}\n",
        "  payload = {}\n",
        "  headers = {'Accept': 'application/vnd.onshape.v2+json',\n",
        "            'Content-Type': 'application/vnd.onshape.v2+json'}\n",
        "\n",
        "  fixed_url = fixed_url.replace('did', did)\n",
        "  fixed_url = fixed_url.replace('wid', wid)\n",
        "  fixed_url = fixed_url.replace('eid', eid)\n",
        "\n",
        "  response = client.api_client.request(method, url=base + fixed_url, query_params=params, headers=headers, body=payload)\n",
        "  fullResponse = json.loads(response.data)\n",
        "\n",
        "  for i in range(len(fullResponse[\"mateValues\"])):\n",
        "    if fullResponse['mateValues'][i]['mateName'] == \"Base\":\n",
        "      RobotData[0] = int(translate(fullResponse['mateValues'][i]['rotationZ'],0,3.14,500,2500))\n",
        "    elif fullResponse['mateValues'][i]['mateName'] == \"Shoulder\":\n",
        "      RobotData[1] = int(translate(fullResponse['mateValues'][i]['rotationZ'],0,3.14,500,2500))\n",
        "    elif fullResponse['mateValues'][i]['mateName'] == \"Elbow\":\n",
        "      RobotData[2] = int(translate(fullResponse['mateValues'][i]['rotationZ'],0,3.14,500,2500))-70\n",
        "    elif fullResponse['mateValues'][i]['mateName'] == \"Wrist\":\n",
        "      RobotData[3] = int(translate(fullResponse['mateValues'][i]['rotationZ'],0,3.14,2500,500))+50\n",
        "    elif fullResponse['mateValues'][i]['mateName'] == \"Hand\":\n",
        "      RobotData[4] = int(translate(fullResponse['mateValues'][i]['rotationZ'],0,3.14,500,2500))\n",
        "    elif fullResponse['mateValues'][i]['mateName'] == \"Gripper\":\n",
        "      RobotData[5] = int(translate(fullResponse['mateValues'][i]['rotationZ'],0,3.14,500,2500))\n",
        "  \n",
        "  return RobotData\n",
        "\n",
        "def setMateValues(baseAngle,shoulderAngle,elbowAngle,wristAngle,handAngle,gripperAngle):\n",
        "  fixed_url = '/api/assemblies/d/did/w/wid/e/eid/matevalues'\n",
        "\n",
        "  # https://cad.onshape.com/documents/4bda16c648566259ea1b4e4c/w/c299b9fc994574c2637e871d/e/2f52bf4870f9d7ddc900b4de\n",
        "  did = '4bda16c648566259ea1b4e4c'\n",
        "  wid = 'c299b9fc994574c2637e871d'\n",
        "  eid = '2f52bf4870f9d7ddc900b4de'\n",
        "\n",
        "  method = 'GET'\n",
        "\n",
        "  params = {}\n",
        "  payload = {}\n",
        "  headers = {'Accept': 'application/vnd.onshape.v2+json',\n",
        "            'Content-Type': 'application/vnd.onshape.v2+json'}\n",
        "\n",
        "  fixed_url = fixed_url.replace('did', did)\n",
        "  fixed_url = fixed_url.replace('wid', wid)\n",
        "  fixed_url = fixed_url.replace('eid', eid)\n",
        "\n",
        "  response = client.api_client.request(method, url=base + fixed_url, query_params=params, headers=headers, body=payload)\n",
        "  fullResponse = json.loads(response.data)\n",
        "  \n",
        "  for i in range(len(fullResponse[\"mateValues\"])):\n",
        "    if fullResponse['mateValues'][i]['mateName'] == \"Base\":\n",
        "      print(fullResponse['mateValues'][i])\n",
        "      fullResponse['mateValues'][i]['rotationZ'] = baseAngle\n",
        "      print(fullResponse['mateValues'][i])\n",
        "\n",
        "  method = 'POST'\n",
        "\n",
        "  params = {}\n",
        "  payload = fullResponse\n",
        "  headers = {'Accept': 'application/vnd.onshape.v2+json',\n",
        "            'Content-Type': 'application/vnd.onshape.v2+json'}\n",
        "  response = client.api_client.request(method, url=base + fixed_url, query_params=params, headers=headers, body=payload)\n",
        "\n",
        "  for i in range(len(fullResponse[\"mateValues\"])):\n",
        "    if fullResponse['mateValues'][i]['mateName'] == \"Shoulder\":\n",
        "      fullResponse['mateValues'][i]['rotationZ'] = shoulderAngle\n",
        "    elif fullResponse['mateValues'][i]['mateName'] == \"Elbow\":\n",
        "      fullResponse['mateValues'][i]['rotationZ'] = elbowAngle\n",
        "    elif fullResponse['mateValues'][i]['mateName'] == \"Wrist\":\n",
        "      fullResponse['mateValues'][i]['rotationZ'] = wristAngle\n",
        "    elif fullResponse['mateValues'][i]['mateName'] == \"Hand\":\n",
        "      fullResponse['mateValues'][i]['rotationZ'] = handAngle\n",
        "    elif fullResponse['mateValues'][i]['mateName'] == \"Gripper\":\n",
        "      fullResponse['mateValues'][i]['rotationZ'] = gripperAngle\n",
        "\n",
        "  method = 'POST'\n",
        "\n",
        "  params = {}\n",
        "  payload = fullResponse\n",
        "  headers = {'Accept': 'application/vnd.onshape.v2+json',\n",
        "            'Content-Type': 'application/vnd.onshape.v2+json'}\n",
        "  response = client.api_client.request(method, url=base + fixed_url, query_params=params, headers=headers, body=payload)\n",
        "  # The command below prints the entire JSON response from Onshape\n",
        "  print(response.status)\n",
        "\n",
        "def translate(value, leftMin, leftMax, rightMin, rightMax):\n",
        "  # Figure out how 'wide' each range is\n",
        "  leftSpan = leftMax - leftMin\n",
        "  rightSpan = rightMax - rightMin\n",
        "\n",
        "  # Convert the left range into a 0-1 range (float)\n",
        "  valueScaled = float(value - leftMin) / float(leftSpan)\n",
        "\n",
        "  # Convert the 0-1 range into a value in the right range.\n",
        "  return rightMin + (valueScaled * rightSpan)"
      ],
      "execution_count": 10,
      "outputs": []
    },
    {
      "cell_type": "markdown",
      "metadata": {
        "id": "H9yN_vWEQgcO"
      },
      "source": [
        "## Generate array of positions"
      ]
    },
    {
      "cell_type": "code",
      "metadata": {
        "colab": {
          "base_uri": "https://localhost:8080/"
        },
        "id": "OpO08Wp-Qf9F",
        "outputId": "b14d08d5-9fe9-49a2-84f5-608d8cc28a9e"
      },
      "source": [
        "import math\n",
        "posArray = []\n",
        "for i in range(15):\n",
        "  posArray.append(math.pi/(i+2))\n",
        "\n",
        "print(posArray)\n",
        "FullArray = []\n",
        "\n",
        "for i in range(6):\n",
        "  FullArray.append(posArray)\n",
        "print(len(FullArray[0]))\n",
        "print(FullArray[0][0],FullArray[5][0])"
      ],
      "execution_count": 31,
      "outputs": [
        {
          "output_type": "stream",
          "text": [
            "[1.5707963267948966, 1.0471975511965976, 0.7853981633974483, 0.6283185307179586, 0.5235987755982988, 0.4487989505128276, 0.39269908169872414, 0.3490658503988659, 0.3141592653589793, 0.28559933214452665, 0.2617993877991494, 0.241660973353061, 0.2243994752564138, 0.20943951023931953, 0.19634954084936207]\n",
            "15\n",
            "1.5707963267948966 1.5707963267948966\n"
          ],
          "name": "stdout"
        }
      ]
    },
    {
      "cell_type": "markdown",
      "metadata": {
        "id": "Eh3BvsVoO4ik"
      },
      "source": [
        "## Get the names views of the element if there are any"
      ]
    },
    {
      "cell_type": "code",
      "metadata": {
        "id": "jl_NfKI-Qr3F"
      },
      "source": [
        "fixed_url = '/api/assemblies/d/did/e/eid/namedViews'\n",
        "\n",
        "# https://cad.onshape.com/documents/cc9c5cb9912e286856491ca1/w/46ca1ebc66132096757402de/e/b23d54c6d17e2dc553e99171\n",
        "did = 'cc9c5cb9912e286856491ca1'\n",
        "wid = '46ca1ebc66132096757402de'\n",
        "eid = 'b23d54c6d17e2dc553e99171'\n",
        "\n",
        "method = 'GET'\n",
        "\n",
        "params = {}\n",
        "payload = {}\n",
        "headers = {'Accept': 'application/vnd.onshape.v1+json',\n",
        "            'Content-Type': 'application/json'}\n",
        "\n",
        "fixed_url = fixed_url.replace('did', did)\n",
        "fixed_url = fixed_url.replace('wid', wid)\n",
        "fixed_url = fixed_url.replace('eid', eid)\n",
        "\n",
        "response = client.api_client.request(method, url=base + fixed_url, query_params=params, headers=headers, body=payload)\n",
        "print(response.data)\n",
        "\n",
        "parsed = json.loads(response.data)\n",
        "# The command below prints the entire JSON response from Onshape"
      ],
      "execution_count": null,
      "outputs": []
    },
    {
      "cell_type": "markdown",
      "metadata": {
        "id": "WeiPE1faPDdO"
      },
      "source": [
        "# Get shaded view of model"
      ]
    },
    {
      "cell_type": "code",
      "metadata": {
        "id": "MwbM1Yu_NN_d"
      },
      "source": [
        "import base64\n",
        "def shadedViews():\n",
        "  fixed_url = '/api/assemblies/d/did/w/wid/e/eid/shadedviews'\n",
        "\n",
        "  # https://cad.onshape.com/documents/4bda16c648566259ea1b4e4c/w/c299b9fc994574c2637e871d/e/2f52bf4870f9d7ddc900b4de\n",
        "  did = '4bda16c648566259ea1b4e4c'\n",
        "  wid = 'c299b9fc994574c2637e871d'\n",
        "  eid = '2f52bf4870f9d7ddc900b4de'\n",
        "\n",
        "  method = 'GET'\n",
        "\n",
        "  ## View Matrix below is roughly isometric\n",
        "  params = {'viewMatrix':'0.612,0.612,0,0,-0.354,0.354,0.707,0,0.707,-0.707,0.707,0',\n",
        "            'edges':'show',\n",
        "            'outputHeight':500,\n",
        "            'outputWidth':500,\n",
        "            'pixelSize':0.0025}\n",
        "  payload = {}\n",
        "  headers = {'Accept': 'application/vnd.onshape.v1+json',\n",
        "              'Content-Type': 'application/json'}\n",
        "\n",
        "  fixed_url = fixed_url.replace('did', did)\n",
        "  fixed_url = fixed_url.replace('wid', wid)\n",
        "  fixed_url = fixed_url.replace('eid', eid)\n",
        "\n",
        "  response = client.api_client.request(method, url=base + fixed_url, query_params=params, headers=headers, body=payload)\n",
        "\n",
        "  parsed = json.loads(response.data)\n",
        "\n",
        "  imgdata = base64.b64decode(parsed['images'][0])\n",
        "  \n",
        "  return imgdata\n",
        "  # with open(filename, 'wb') as f:\n",
        "  #     f.write(imgdata)"
      ],
      "execution_count": 34,
      "outputs": []
    },
    {
      "cell_type": "code",
      "metadata": {
        "id": "pdUEi4F76z_F",
        "colab": {
          "base_uri": "https://localhost:8080/"
        },
        "outputId": "9f896e9f-559c-44d0-9229-75f44d3386c9"
      },
      "source": [
        "import time\n",
        "import imageio\n",
        "import io\n",
        "images = []\n",
        "for i in range(len(FullArray[0])):\n",
        "  setMateValues(FullArray[0][i],FullArray[1][i],FullArray[2][i],FullArray[3][i],FullArray[4][i],FullArray[5][i])\n",
        "  images.append(imageio.imread(io.BytesIO(shadedViews())))\n",
        "\n",
        "imageio.mimsave('OnshapeGif.gif', images)\n"
      ],
      "execution_count": null,
      "outputs": [
        {
          "output_type": "stream",
          "text": [
            "{'jsonType': 'Revolute', 'rotationZ': 0.20917128323578119, 'mateName': 'Base', 'featureId': 'MP0JnvCPgEfKeP2HM'}\n",
            "{'jsonType': 'Revolute', 'rotationZ': 1.5707963267948966, 'mateName': 'Base', 'featureId': 'MP0JnvCPgEfKeP2HM'}\n",
            "200\n",
            "{'jsonType': 'Revolute', 'rotationZ': 0.38534057863474436, 'mateName': 'Base', 'featureId': 'MP0JnvCPgEfKeP2HM'}\n",
            "{'jsonType': 'Revolute', 'rotationZ': 1.0471975511965976, 'mateName': 'Base', 'featureId': 'MP0JnvCPgEfKeP2HM'}\n",
            "200\n",
            "{'jsonType': 'Revolute', 'rotationZ': 1.1905451201019752, 'mateName': 'Base', 'featureId': 'MP0JnvCPgEfKeP2HM'}\n",
            "{'jsonType': 'Revolute', 'rotationZ': 0.7853981633974483, 'mateName': 'Base', 'featureId': 'MP0JnvCPgEfKeP2HM'}\n",
            "200\n",
            "{'jsonType': 'Revolute', 'rotationZ': 0.946720444978882, 'mateName': 'Base', 'featureId': 'MP0JnvCPgEfKeP2HM'}\n",
            "{'jsonType': 'Revolute', 'rotationZ': 0.6283185307179586, 'mateName': 'Base', 'featureId': 'MP0JnvCPgEfKeP2HM'}\n",
            "200\n",
            "{'jsonType': 'Revolute', 'rotationZ': 0.7482352249790749, 'mateName': 'Base', 'featureId': 'MP0JnvCPgEfKeP2HM'}\n",
            "{'jsonType': 'Revolute', 'rotationZ': 0.5235987755982988, 'mateName': 'Base', 'featureId': 'MP0JnvCPgEfKeP2HM'}\n",
            "200\n",
            "{'jsonType': 'Revolute', 'rotationZ': 0.6115683622893789, 'mateName': 'Base', 'featureId': 'MP0JnvCPgEfKeP2HM'}\n",
            "{'jsonType': 'Revolute', 'rotationZ': 0.4487989505128276, 'mateName': 'Base', 'featureId': 'MP0JnvCPgEfKeP2HM'}\n",
            "200\n",
            "{'jsonType': 'Revolute', 'rotationZ': 0.5149836078078083, 'mateName': 'Base', 'featureId': 'MP0JnvCPgEfKeP2HM'}\n",
            "{'jsonType': 'Revolute', 'rotationZ': 0.39269908169872414, 'mateName': 'Base', 'featureId': 'MP0JnvCPgEfKeP2HM'}\n"
          ],
          "name": "stdout"
        }
      ]
    }
  ]
}