{
  "nbformat": 4,
  "nbformat_minor": 0,
  "metadata": {
    "colab": {
      "name": "Google Sheets AL5D Test.ipynb",
      "provenance": [],
      "authorship_tag": "ABX9TyOpeDSGcwvPj+XfQv93PS5X",
      "include_colab_link": true
    },
    "kernelspec": {
      "name": "python3",
      "display_name": "Python 3"
    },
    "language_info": {
      "name": "python"
    }
  },
  "cells": [
    {
      "cell_type": "markdown",
      "metadata": {
        "id": "view-in-github",
        "colab_type": "text"
      },
      "source": [
        "<a href=\"https://colab.research.google.com/github/PTC-Education/PTC-Education.github.io/blob/master/Google_Sheets_AL5D_Test.ipynb\" target=\"_parent\"><img src=\"https://colab.research.google.com/assets/colab-badge.svg\" alt=\"Open In Colab\"/></a>"
      ]
    },
    {
      "cell_type": "markdown",
      "metadata": {
        "id": "mPUSZvQwvnii"
      },
      "source": [
        "# Configure Onshape Client"
      ]
    },
    {
      "cell_type": "code",
      "metadata": {
        "id": "ZKTwCNh4Y8Fu"
      },
      "source": [
        "!pip install onshape-client\n",
        "from onshape_client.client import Client\n",
        "import json\n",
        "base = 'https://cad.onshape.com' # change this if you're using a document in an enterprise (i.e. \"https://ptc.onshape.com\")"
      ],
      "execution_count": null,
      "outputs": []
    },
    {
      "cell_type": "code",
      "metadata": {
        "colab": {
          "base_uri": "https://localhost:8080/"
        },
        "id": "jiW2-OhuY8Zh",
        "outputId": "ccff5c67-3481-45ed-a8e7-54a81717046d"
      },
      "source": [
        "import os\n",
        "def include(filename):\n",
        "    if os.path.exists(filename): \n",
        "        execfile(filename)\n",
        "include('colabkeys.py')\n",
        "client = Client(configuration={\"base_url\": base,\n",
        "                               \"access_key\": access,\n",
        "                               \"secret_key\": secret})\n",
        "print('client configured')"
      ],
      "execution_count": null,
      "outputs": [
        {
          "output_type": "stream",
          "text": [
            "client configured\n"
          ],
          "name": "stdout"
        }
      ]
    },
    {
      "cell_type": "markdown",
      "metadata": {
        "id": "sWKNsyIAcM6E"
      },
      "source": [
        "# Digital Twin Functions"
      ]
    },
    {
      "cell_type": "markdown",
      "metadata": {
        "id": "OtkElqTyv2sU"
      },
      "source": [
        "## Update mate values"
      ]
    },
    {
      "cell_type": "code",
      "metadata": {
        "id": "UK-xaL91c6v5"
      },
      "source": [
        "def setMateValues(baseAngle,shoulderAngle,elbowAngle,wristAngle,handAngle,gripperAngle):\n",
        "  fixed_url = '/api/assemblies/d/did/w/wid/e/eid/matevalues'\n",
        "\n",
        "  # https://cad.onshape.com/documents/4bda16c648566259ea1b4e4c/w/c299b9fc994574c2637e871d/e/2f52bf4870f9d7ddc900b4de\n",
        "  did = '4bda16c648566259ea1b4e4c'\n",
        "  wid = 'c299b9fc994574c2637e871d'\n",
        "  eid = '2f52bf4870f9d7ddc900b4de'\n",
        "\n",
        "  method = 'GET'\n",
        "\n",
        "  params = {}\n",
        "  payload = {}\n",
        "  headers = {'Accept': 'application/vnd.onshape.v2+json',\n",
        "            'Content-Type': 'application/vnd.onshape.v2+json'}\n",
        "\n",
        "  fixed_url = fixed_url.replace('did', did)\n",
        "  fixed_url = fixed_url.replace('wid', wid)\n",
        "  fixed_url = fixed_url.replace('eid', eid)\n",
        "\n",
        "  response = client.api_client.request(method, url=base + fixed_url, query_params=params, headers=headers, body=payload)\n",
        "  fullResponse = json.loads(response.data)\n",
        "  \n",
        "  for i in range(len(fullResponse[\"mateValues\"])):\n",
        "    if fullResponse['mateValues'][i]['mateName'] == \"Base\":\n",
        "      print(fullResponse['mateValues'][i])\n",
        "      fullResponse['mateValues'][i]['rotationZ'] = baseAngle\n",
        "      print(fullResponse['mateValues'][i])\n",
        "\n",
        "  method = 'POST'\n",
        "\n",
        "  params = {}\n",
        "  payload = fullResponse\n",
        "  headers = {'Accept': 'application/vnd.onshape.v2+json',\n",
        "            'Content-Type': 'application/vnd.onshape.v2+json'}\n",
        "  response = client.api_client.request(method, url=base + fixed_url, query_params=params, headers=headers, body=payload)\n",
        "\n",
        "  for i in range(len(fullResponse[\"mateValues\"])):\n",
        "    if fullResponse['mateValues'][i]['mateName'] == \"Shoulder\":\n",
        "      fullResponse['mateValues'][i]['rotationZ'] = shoulderAngle\n",
        "    elif fullResponse['mateValues'][i]['mateName'] == \"Elbow\":\n",
        "      fullResponse['mateValues'][i]['rotationZ'] = elbowAngle\n",
        "    elif fullResponse['mateValues'][i]['mateName'] == \"Wrist\":\n",
        "      fullResponse['mateValues'][i]['rotationZ'] = wristAngle\n",
        "    elif fullResponse['mateValues'][i]['mateName'] == \"Hand\":\n",
        "      fullResponse['mateValues'][i]['rotationZ'] = handAngle\n",
        "    elif fullResponse['mateValues'][i]['mateName'] == \"Gripper\":\n",
        "      fullResponse['mateValues'][i]['rotationZ'] = gripperAngle\n",
        "\n",
        "  method = 'POST'\n",
        "\n",
        "  params = {}\n",
        "  payload = fullResponse\n",
        "  headers = {'Accept': 'application/vnd.onshape.v2+json',\n",
        "            'Content-Type': 'application/vnd.onshape.v2+json'}\n",
        "  response = client.api_client.request(method, url=base + fixed_url, query_params=params, headers=headers, body=payload)\n",
        "  # The command below prints the entire JSON response from Onshape\n",
        "  print(response.status)"
      ],
      "execution_count": null,
      "outputs": []
    },
    {
      "cell_type": "markdown",
      "metadata": {
        "id": "jXvpaxVFv5LI"
      },
      "source": [
        "## Get position of tool center point"
      ]
    },
    {
      "cell_type": "code",
      "metadata": {
        "colab": {
          "base_uri": "https://localhost:8080/"
        },
        "id": "hCYAM47dcPvc",
        "outputId": "db4deaef-56c7-46fa-e093-28d52ebb2445"
      },
      "source": [
        "def getTCPPos():\n",
        "  import array\n",
        "  base = 'https://cad.onshape.com'\n",
        "  fixed_url = '/api/assemblies/d/did/w/wid/e/eid'\n",
        "\n",
        "  # https://cad.onshape.com/documents/4bda16c648566259ea1b4e4c/w/c299b9fc994574c2637e871d/e/2f52bf4870f9d7ddc900b4de\n",
        "  did = '4bda16c648566259ea1b4e4c'\n",
        "  wid = 'c299b9fc994574c2637e871d'\n",
        "  eid = '2f52bf4870f9d7ddc900b4de'\n",
        "\n",
        "  method = 'GET'\n",
        "\n",
        "  params = {}\n",
        "  payload = {}\n",
        "  headers = {'Accept': 'application/vnd.onshape.v1+json; charset=UTF-8;qs=0.1',\n",
        "            'Content-Type': 'application/json'}\n",
        "\n",
        "  fixed_url = fixed_url.replace('did', did)\n",
        "  fixed_url = fixed_url.replace('wid', wid)\n",
        "  fixed_url = fixed_url.replace('eid', eid)\n",
        "\n",
        "  response = client.api_client.request(method, url=base + fixed_url, query_params=params, headers=headers, body=payload)\n",
        "  parsed = json.loads(response.data)\n",
        "  # The command below prints the entire JSON response from Onshape\n",
        "  # print(json.dumps(parsed, indent=4, sort_keys=True))\n",
        "\n",
        "  for i in range(len(parsed['rootAssembly']['instances'])):\n",
        "    if \"TCP\" in parsed['rootAssembly']['instances'][i]['name']:\n",
        "      TCPid = parsed['rootAssembly']['instances'][i]['id']\n",
        "      break\n",
        "\n",
        "  for i in range(len(parsed['rootAssembly']['occurrences'])):\n",
        "    if parsed['rootAssembly']['occurrences'][i]['path'][0] == TCPid and len(parsed['rootAssembly']['occurrences'][i]['path'])==1:\n",
        "      TCPpos = [parsed['rootAssembly']['occurrences'][i]['transform'][3],parsed['rootAssembly']['occurrences'][i]['transform'][7],parsed['rootAssembly']['occurrences'][i]['transform'][11]]\n",
        "  return TCPpos\n",
        "print(getTCPPos())"
      ],
      "execution_count": null,
      "outputs": [
        {
          "output_type": "stream",
          "text": [
            "[0.2479851413799812, 0.05493058752548997, 0.30547220528674685]\n"
          ],
          "name": "stdout"
        }
      ]
    },
    {
      "cell_type": "markdown",
      "metadata": {
        "id": "BZr9rX0PcujQ"
      },
      "source": [
        "# Connect Google Sheets"
      ]
    },
    {
      "cell_type": "code",
      "metadata": {
        "id": "qO9A-ba-cuNR"
      },
      "source": [
        "from google.colab import auth\n",
        "auth.authenticate_user()\n",
        "\n",
        "import gspread\n",
        "from oauth2client.client import GoogleCredentials\n",
        "\n",
        "gc = gspread.authorize(GoogleCredentials.get_application_default())"
      ],
      "execution_count": null,
      "outputs": []
    },
    {
      "cell_type": "code",
      "metadata": {
        "id": "JuVPQqemeIB8"
      },
      "source": [
        "worksheet = gc.open_by_url('https://docs.google.com/spreadsheets/d/1-NF7KqZnMjmmixTiP35Eibw5LOw87BVjygtL9KePYVU').sheet1"
      ],
      "execution_count": null,
      "outputs": []
    },
    {
      "cell_type": "code",
      "metadata": {
        "id": "5cuBA6spf-wT"
      },
      "source": [
        "def SetCellsFromTCP():\n",
        "  TCP_cell_list = worksheet.range('B2:D2')\n",
        "  TCP_pos = getTCPPos()\n",
        "  for i in range(len(TCP_cell_list)):\n",
        "    TCP_cell_list[i].value = TCP_pos[i]\n",
        "  worksheet.update_cells(TCP_cell_list)"
      ],
      "execution_count": null,
      "outputs": []
    },
    {
      "cell_type": "code",
      "metadata": {
        "id": "--aocqKUhjrD"
      },
      "source": [
        "def SetMatesFromCells():\n",
        "  Joint_cell_list = worksheet.range('B5:G5')\n",
        "  setMateValues(Joint_cell_list[0].value,Joint_cell_list[1].value,Joint_cell_list[2].value,Joint_cell_list[3].value,Joint_cell_list[4].value,Joint_cell_list[5].value)"
      ],
      "execution_count": null,
      "outputs": []
    },
    {
      "cell_type": "code",
      "metadata": {
        "colab": {
          "base_uri": "https://localhost:8080/"
        },
        "id": "TqR53qCQm-JR",
        "outputId": "1e9914c9-4f61-434f-933e-bfd64f39b42d"
      },
      "source": [
        "import math\n",
        "setMateValues(math.pi/2,math.pi/2,math.pi/2,math.pi/2,math.pi/2,math.pi/3)"
      ],
      "execution_count": null,
      "outputs": [
        {
          "output_type": "stream",
          "text": [
            "{'jsonType': 'Revolute', 'rotationZ': 1.396200000000016, 'mateName': 'Base', 'featureId': 'MP0JnvCPgEfKeP2HM'}\n",
            "{'jsonType': 'Revolute', 'rotationZ': 1.5707963267948966, 'mateName': 'Base', 'featureId': 'MP0JnvCPgEfKeP2HM'}\n",
            "200\n"
          ],
          "name": "stdout"
        }
      ]
    },
    {
      "cell_type": "markdown",
      "metadata": {
        "id": "9O7S2XdfxTDU"
      },
      "source": [
        "# Main Loop"
      ]
    },
    {
      "cell_type": "code",
      "metadata": {
        "id": "L4RsTjGbij9k"
      },
      "source": [
        "import time\n",
        "\n",
        "while True:\n",
        "  SetCellsFromTCP()\n",
        "  time.sleep(0.5)\n",
        "  SetMatesFromCells()\n",
        "  time.sleep(0.5)"
      ],
      "execution_count": null,
      "outputs": []
    }
  ]
}