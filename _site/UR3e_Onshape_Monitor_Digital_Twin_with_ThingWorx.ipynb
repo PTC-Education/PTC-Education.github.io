{
  "nbformat": 4,
  "nbformat_minor": 0,
  "metadata": {
    "colab": {
      "name": "UR3e Onshape Monitor Digital Twin with ThingWorx",
      "provenance": [],
      "authorship_tag": "ABX9TyPBqPkooWIWq4vjytAHCqIj",
      "include_colab_link": true
    },
    "kernelspec": {
      "name": "python3",
      "display_name": "Python 3"
    },
    "language_info": {
      "name": "python"
    }
  },
  "cells": [
    {
      "cell_type": "markdown",
      "metadata": {
        "id": "view-in-github",
        "colab_type": "text"
      },
      "source": [
        "<a href=\"https://colab.research.google.com/github/PTC-Education/PTC-Education.github.io/blob/master/UR3e_Onshape_Monitor_Digital_Twin_with_ThingWorx.ipynb\" target=\"_parent\"><img src=\"https://colab.research.google.com/assets/colab-badge.svg\" alt=\"Open In Colab\"/></a>"
      ]
    },
    {
      "cell_type": "markdown",
      "metadata": {
        "id": "VzjOfoomQYhn"
      },
      "source": [
        "# Setup"
      ]
    },
    {
      "cell_type": "code",
      "metadata": {
        "id": "o24jO_N_2yLl"
      },
      "source": [
        "!pip install onshape-client\n",
        "from onshape_client.client import Client\n",
        "import json\n",
        "base = 'https://cad.onshape.com' # change this if you're using a document in an enterprise (i.e. \"https://ptc.onshape.com\")"
      ],
      "execution_count": null,
      "outputs": []
    },
    {
      "cell_type": "code",
      "metadata": {
        "id": "8AYtctrP2y--"
      },
      "source": [
        "import os\n",
        "def include(filename):\n",
        "    if os.path.exists(filename): \n",
        "        execfile(filename)\n",
        "include('colabkeys.py')\n",
        "client = Client(configuration={\"base_url\": base,\n",
        "                               \"access_key\": access,\n",
        "                               \"secret_key\": secret})"
      ],
      "execution_count": null,
      "outputs": []
    },
    {
      "cell_type": "markdown",
      "metadata": {
        "id": "xRfjvl9jQoOX"
      },
      "source": [
        "# Get UR3 Data from TWX"
      ]
    },
    {
      "cell_type": "markdown",
      "metadata": {
        "id": "O8nS-_r0K_s5"
      },
      "source": [
        "Data from the physical robot is being sent to ThingWorx through Kepware, so we are pulling the joint data from ThingWorx REST API"
      ]
    },
    {
      "cell_type": "code",
      "metadata": {
        "id": "0OJ5bv1Kh7rF"
      },
      "source": [
        "import requests\n",
        "import json\n",
        "\n",
        "def getUR3Data():\n",
        "  appKey = twkey\n",
        "  URL = 'https://pp-2101111403aw.portal.ptc.io/Thingworx/Things/UR_Robot1/Properties'\n",
        "\n",
        "  headers = {\n",
        "          'appKey': appKey,\n",
        "          'accept': 'application/json',\n",
        "          'Content-Type':'application/json'\n",
        "      }\n",
        "\n",
        "  response = requests.get(URL,headers=headers)\n",
        "  DiceValuePos = [response.json()['rows'][0]['lastRollValue'],response.json()['rows'][0]['DiceDemo_dx'],response.json()['rows'][0]['DiceDemo_dy'],response.json()['rows'][0]['gripperState'],response.json()['rows'][0]['readytocount'],response.json()['rows'][0]['DiceDemo_drz'],response.json()['rows'][0]['UR_Robots_UR_Robot1_TCP_TCP-rx']]\n",
        "  RobotData = [response.json()['rows'][0]['joint1Angle'],response.json()['rows'][0]['joint2Angle'],response.json()['rows'][0]['joint3Angle'],response.json()['rows'][0]['joint4Angle'],response.json()['rows'][0]['joint5Angle'],response.json()['rows'][0]['joint6Angle'],response.json()['rows'][0]['gripperState']*0.015]\n",
        "  return DiceValuePos, RobotData"
      ],
      "execution_count": null,
      "outputs": []
    },
    {
      "cell_type": "code",
      "metadata": {
        "colab": {
          "base_uri": "https://localhost:8080/"
        },
        "id": "qzksgkeVsjLL",
        "outputId": "4903e591-5268-4614-f3e9-03cb9bf1dcab"
      },
      "source": [
        "print(getUR3Data())"
      ],
      "execution_count": null,
      "outputs": [
        {
          "output_type": "stream",
          "text": [
            "([3, 119, 352, 1, 1, 103, 20], [-43.89918442632478, -96.95507625543905, -94.72054085442886, -79.02149726784427, 90.87110630774858, 45.6074404924135, 1])\n"
          ],
          "name": "stdout"
        }
      ]
    },
    {
      "cell_type": "markdown",
      "metadata": {
        "id": "9aQqcve8WjYB"
      },
      "source": [
        "# LEGO Brick Color Update"
      ]
    },
    {
      "cell_type": "markdown",
      "metadata": {
        "id": "QiW6POLJL-pC"
      },
      "source": [
        "Find Part ID of LEGO Brick"
      ]
    },
    {
      "cell_type": "code",
      "metadata": {
        "id": "fPOjfM54KBgD"
      },
      "source": [
        "# The first part of the fixed URL specifies which API we're calling\n",
        "fixed_url = '/api/parts/d/did/w/wid'\n",
        "\n",
        "# https://cad.onshape.com/documents/f45fad4854ca95357c3937ee/w/947c0b3bc5c329a1c2960014/e/560babcca9702c62ed1034af\n",
        "did = 'f45fad4854ca95357c3937ee'\n",
        "wid = '947c0b3bc5c329a1c2960014'\n",
        "\n",
        "# Method below specifies the request type - 'GET' or 'POST'\n",
        "method = 'GET'\n",
        "\n",
        "params = {}\n",
        "payload = {}\n",
        "headers = {'Accept': 'application/vnd.onshape.v1+json; charset=UTF-8;qs=0.1',\n",
        "           'Content-Type': 'application/json'}\n",
        "\n",
        "fixed_url = fixed_url.replace('did', did)\n",
        "fixed_url = fixed_url.replace('wid', wid)\n",
        "response = client.api_client.request(method, url=base + fixed_url, query_params=params, headers=headers, body=payload)\n",
        "\n",
        "# The command below prints the entire JSON response from Onshape\n",
        "# print(json.loads(response.data))\n",
        "\n",
        "parts = json.loads(response.data)\n",
        "for i in range(len(parts)):\n",
        "  print(parts[i][\"name\"] +\" has part ID: \"+ parts[i][\"partId\"])"
      ],
      "execution_count": null,
      "outputs": []
    },
    {
      "cell_type": "markdown",
      "metadata": {
        "id": "hxn-DQoiMBaH"
      },
      "source": [
        "Set \"partMetaData\" variable to the meta data from LEGO brick part"
      ]
    },
    {
      "cell_type": "code",
      "metadata": {
        "id": "gICSqf9bLk-0"
      },
      "source": [
        "# https://cad.onshape.com/documents/f45fad4854ca95357c3937ee/w/947c0b3bc5c329a1c2960014/e/560babcca9702c62ed1034af\n",
        "fixed_url = '/api/metadata/d/did/w/wid/e/eid/p/pid'\n",
        "did = 'f45fad4854ca95357c3937ee'\n",
        "wid = '947c0b3bc5c329a1c2960014'\n",
        "eid = '560babcca9702c62ed1034af'\n",
        "pid = 'JLD'\n",
        "\n",
        "params = {}\n",
        "payload = {}\n",
        "headers = {'Accept': 'application/vnd.onshape.v1+json; charset=UTF-8;qs=0.1',\n",
        "          'Content-Type': 'application/json'}\n",
        "\n",
        "fixed_url = fixed_url.replace('did', did)\n",
        "fixed_url = fixed_url.replace('wid', wid)\n",
        "fixed_url = fixed_url.replace('eid', eid)\n",
        "fixed_url = fixed_url.replace('pid', pid)\n",
        "\n",
        "response = client.api_client.request('GET', url=base + fixed_url,\n",
        "query_params=params, headers=headers, body=payload)\n",
        "\n",
        "partMetaData = json.loads(response.data)"
      ],
      "execution_count": null,
      "outputs": []
    },
    {
      "cell_type": "markdown",
      "metadata": {
        "id": "M_o7XyB-MFfq"
      },
      "source": [
        "function for changing color of LEGO brick"
      ]
    },
    {
      "cell_type": "code",
      "metadata": {
        "id": "gQsVgJ1CJfTk"
      },
      "source": [
        "def updateColor(partMetaData,newColors):\n",
        "  partProperties = partMetaData['properties']\n",
        "\n",
        "  # # Print current appearance values\n",
        "  # for x in partProperties:\n",
        "  #   if x['name'] == \"Appearance\":\n",
        "  #     partAppearance = x\n",
        "  #     break\n",
        "  # print(partAppearance['value'])\n",
        "\n",
        "  for i in range(len(partProperties)):\n",
        "    if partProperties[i]['name'] == \"Appearance\":\n",
        "      partProperties[i]['value']['color'] = newColors\n",
        "      break\n",
        "\n",
        "  partMetaData['properties'] = partProperties\n",
        "\n",
        "  payload = partMetaData\n",
        "\n",
        "  response = client.api_client.request('POST', url=base + fixed_url,\n",
        "  query_params=params, headers=headers, body=payload)"
      ],
      "execution_count": null,
      "outputs": []
    },
    {
      "cell_type": "code",
      "metadata": {
        "id": "lSJ8hFXnJfTu"
      },
      "source": [
        "updateColor(partMetaData,{'red': 1, 'green': 255, 'blue': 255})"
      ],
      "execution_count": null,
      "outputs": []
    },
    {
      "cell_type": "markdown",
      "metadata": {
        "id": "E5QCj_jAXA5j"
      },
      "source": [
        "# Update Dice Number Text"
      ]
    },
    {
      "cell_type": "markdown",
      "metadata": {
        "id": "blCXbseNcGyp"
      },
      "source": [
        "Load FeatureInfo Variable"
      ]
    },
    {
      "cell_type": "code",
      "metadata": {
        "id": "oMpN0V51Whw1"
      },
      "source": [
        "fixed_url = '/api/partstudios/d/did/w/wid/e/eid/features'\n",
        "\n",
        "#https://cad.onshape.com/documents/f45fad4854ca95357c3937ee/w/947c0b3bc5c329a1c2960014/e/600c5bc17d1d06585c85b9e8\n",
        "did = 'f45fad4854ca95357c3937ee'\n",
        "wid = '947c0b3bc5c329a1c2960014'\n",
        "eid = '600c5bc17d1d06585c85b9e8'\n",
        "\n",
        "fixed_url = fixed_url.replace('did', did)\n",
        "fixed_url = fixed_url.replace('wid', wid)\n",
        "fixed_url = fixed_url.replace('eid', eid)\n",
        "\n",
        "method = 'GET'\n",
        "params = {}\n",
        "payload = {}\n",
        "headers = {'Accept': 'application/vnd.onshape.v1+json; charset=UTF-8;qs=0.1',\n",
        "          'Content-Type': 'application/json'}\n",
        "\n",
        "FeatureInfo = client.api_client.request(method, url=base + fixed_url, query_params=params, headers=headers, body=payload)"
      ],
      "execution_count": null,
      "outputs": []
    },
    {
      "cell_type": "code",
      "metadata": {
        "id": "I3miE-T9cRJR"
      },
      "source": [
        "def updateValue(value):\n",
        "  newFeature = json.loads(FeatureInfo.data)[\"features\"][0]\n",
        "  newFeature[\"message\"][\"entities\"][0][\"message\"]['parameters'][1]['message']['value'] = '''Last Roll: '''+value\n",
        "  # print(newFeature[\"message\"][\"entities\"][0][\"message\"]['parameters'][1]['message']['value'])\n",
        "  # print(timeRemaining)\n",
        "  # print(json.loads(response.data)[\"sourceMicroversion\"])\n",
        "  # print(json.loads(response.data)[\"serializationVersion\"])\n",
        "\n",
        "  fixed_url = '/api/partstudios/d/did/w/wid/e/eid/features/featureid/fid'\n",
        "\n",
        "  fid = json.loads(FeatureInfo.data)[\"features\"][0][\"message\"][\"featureId\"]\n",
        "\n",
        "  fixed_url = fixed_url.replace('did', did)\n",
        "  fixed_url = fixed_url.replace('wid', wid)\n",
        "  fixed_url = fixed_url.replace('eid', eid, 1)\n",
        "  fixed_url = fixed_url.replace('fid', fid)\n",
        "\n",
        "  # print(fixed_url)\n",
        "\n",
        "  method = 'POST'\n",
        "  params = {}\n",
        "  payload = {'feature': newFeature,\n",
        "            'serializationVersion': json.loads(FeatureInfo.data)[\"serializationVersion\"],\n",
        "            'sourceMicroversion': json.loads(FeatureInfo.data)[\"sourceMicroversion\"]}\n",
        "  headers = {'Accept': 'application/vnd.onshape.v1+json; charset=UTF-8;qs=0.1',\n",
        "            'Content-Type': 'application/json'}\n",
        "\n",
        "  response = client.api_client.request(method, url=base + fixed_url, query_params=params, headers=headers, body=payload)"
      ],
      "execution_count": null,
      "outputs": []
    },
    {
      "cell_type": "code",
      "metadata": {
        "id": "CQw_wuBeciQ2"
      },
      "source": [
        "updateValue('5')"
      ],
      "execution_count": null,
      "outputs": []
    },
    {
      "cell_type": "markdown",
      "metadata": {
        "id": "UoR_qjGbQ5pn"
      },
      "source": [
        "# Gripper Open/Close"
      ]
    },
    {
      "cell_type": "code",
      "metadata": {
        "id": "OBPha0qmpL8K"
      },
      "source": [
        "fixed_url = '/api/elements/d/did/w/wid/e/eid/configuration'\n",
        "\n",
        "# https://cad.onshape.com/documents/f45fad4854ca95357c3937ee/w/947c0b3bc5c329a1c2960014/e/e13b8f1b2de53390ea9d2e34\n",
        "did = 'f45fad4854ca95357c3937ee'\n",
        "wid = '947c0b3bc5c329a1c2960014'\n",
        "eid = '6361bbad5f20ace895955cf6'\n",
        "\n",
        "fixed_url = fixed_url.replace('did', did)\n",
        "fixed_url = fixed_url.replace('wid', wid)\n",
        "fixed_url = fixed_url.replace('eid', eid)\n",
        "\n",
        "# Method below specifies the request type - 'GET' or 'POST'\n",
        "method = 'GET'\n",
        "\n",
        "params = {}\n",
        "payload = {}\n",
        "headers = {'Accept': 'application/vnd.onshape.v1+json; charset=UTF-8;qs=0.1',\n",
        "           'Content-Type': 'application/json'}\n",
        "\n",
        "response = client.api_client.request(method, url=base + fixed_url, query_params=params, headers=headers, body=payload)\n",
        "gripperConfigInfo = json.loads(response.data)\n",
        "# ConfigParams = ConfigInfo[\"configurationParameters\"]\n",
        "\n",
        "# for i in range(len(ConfigParams)):\n",
        "#   print(ConfigParams[i][\"message\"][\"parameterName\"])\n",
        "#   print(ConfigParams[i][\"message\"][\"parameterId\"])"
      ],
      "execution_count": null,
      "outputs": []
    },
    {
      "cell_type": "code",
      "metadata": {
        "id": "tHEl_cwUp2Bz"
      },
      "source": [
        "def moveGripper(openclose):\n",
        "  fixed_url = '/api/elements/d/did/w/wid/e/eid/configuration'\n",
        "\n",
        "  # https://cad.onshape.com/documents/f45fad4854ca95357c3937ee/w/947c0b3bc5c329a1c2960014/e/e13b8f1b2de53390ea9d2e34\n",
        "  did = 'f45fad4854ca95357c3937ee'\n",
        "  wid = '947c0b3bc5c329a1c2960014'\n",
        "  eid = '6361bbad5f20ace895955cf6'\n",
        "\n",
        "  fixed_url = fixed_url.replace('did', did)\n",
        "  fixed_url = fixed_url.replace('wid', wid)\n",
        "  fixed_url = fixed_url.replace('eid', eid)\n",
        "\n",
        "  # Method below specifies the request type - 'GET' or 'POST'\n",
        "  method = 'POST'\n",
        "  ConfigParams = gripperConfigInfo[\"configurationParameters\"]\n",
        "  if openclose == 'open':\n",
        "    ConfigParams[0][\"message\"][\"rangeAndDefault\"][\"message\"][\"minValue\"] = 0\n",
        "    ConfigParams[0][\"message\"][\"rangeAndDefault\"][\"message\"][\"maxValue\"] = 0\n",
        "    ConfigParams[0][\"message\"][\"rangeAndDefault\"][\"message\"][\"defaultValue\"] = 0\n",
        "  else:\n",
        "    ConfigParams[0][\"message\"][\"rangeAndDefault\"][\"message\"][\"minValue\"] = 0.016\n",
        "    ConfigParams[0][\"message\"][\"rangeAndDefault\"][\"message\"][\"maxValue\"] = 0.016\n",
        "    ConfigParams[0][\"message\"][\"rangeAndDefault\"][\"message\"][\"defaultValue\"] = 0.016\n",
        "\n",
        "  params = {}\n",
        "  payload = {'configurationParameters': ConfigParams,\n",
        "            'serializationVersion': ConfigInfo[\"serializationVersion\"],\n",
        "            'sourceMicroversion': ConfigInfo[\"sourceMicroversion\"]}\n",
        "  headers = {'Accept': 'application/vnd.onshape.v1+json; charset=UTF-8;qs=0.1',\n",
        "            'Content-Type': 'application/json'}\n",
        "\n",
        "  response = client.api_client.request(method, url=base + fixed_url, query_params=params, headers=headers, body=payload)"
      ],
      "execution_count": null,
      "outputs": []
    },
    {
      "cell_type": "code",
      "metadata": {
        "id": "nLyskohcrVpW"
      },
      "source": [
        "moveGripper('open')"
      ],
      "execution_count": null,
      "outputs": []
    },
    {
      "cell_type": "markdown",
      "metadata": {
        "id": "sOTH1qnMSDgw"
      },
      "source": [
        "# Matrix Library"
      ]
    },
    {
      "cell_type": "code",
      "metadata": {
        "id": "S3pHR2W4UtLu"
      },
      "source": [
        "import math\n",
        "import numpy\n",
        "\n",
        "def DiceTransform(value):\n",
        "    switcher = {\n",
        "        0: [\n",
        "            0, 0, 1, 0,\n",
        "            0, 1, 0, -0.4,\n",
        "            -1, 0, 0, -0.015,\n",
        "            0, 0, 0, 1\n",
        "           ],\n",
        "        1: [\n",
        "            0, 0, 1, 0,\n",
        "            0, 1, 0, -0.4,\n",
        "            -1, 0, 0, -0.015,\n",
        "            0, 0, 0, 1\n",
        "           ],\n",
        "        2: [\n",
        "            1, 0, 0, 0,\n",
        "            0, 0, 1, -0.4,\n",
        "            0, -1, 0, -0.015,\n",
        "            0, 0, 0, 1\n",
        "           ],\n",
        "        3: [\n",
        "            1, 0, 0, 0,\n",
        "            0, -1, 0, -0.4,\n",
        "            0, 0, -1, -0.015,\n",
        "            0, 0, 0, 1\n",
        "           ],\n",
        "        4: [\n",
        "            1, 0, 0, 0,\n",
        "            0, 1, 0, -0.4,\n",
        "            0, 0, 1, -0.015,\n",
        "            0, 0, 0, 1\n",
        "           ],\n",
        "        5: [\n",
        "            1, 0, 0, 0,\n",
        "            0, 0, -1, -0.4,\n",
        "            0, 1, 0, -0.015,\n",
        "            0, 0, 0, 1\n",
        "           ],\n",
        "        6: [\n",
        "            0, 0, -1, 0,\n",
        "            0, 1, 0, -0.4,\n",
        "            1, 0, 0, -0.015,\n",
        "            0, 0, 0, 1\n",
        "           ] \n",
        "    }\n",
        "  \n",
        "    # get() method of dictionary data type returns \n",
        "    # value of passed argument if it is present \n",
        "    # in dictionary otherwise second argument will\n",
        "    # be assigned as default value of passed argument\n",
        "    return switcher.get(value, \"nothing\")\n",
        "\n",
        "def DiceMoveSpin(value,x1,y1):\n",
        "  matrix = DiceTransform(value)\n",
        "  matrix[3] = x1\n",
        "  matrix[7] = y1\n",
        "  return matrix\n",
        "\n",
        "def DiceFollow(diceMatrix,tcpMatrix):\n",
        "  diceMatrix[3] = tcpMatrix[3]\n",
        "  diceMatrix[7] = tcpMatrix[7]\n",
        "  diceMatrix[11] = tcpMatrix[11]\n",
        "  return diceMatrix\n",
        "  \n",
        "def sixteenToFourByFour(matrix):\n",
        "  fourbyfour = [[matrix[0],matrix[1],matrix[2],matrix[3]],\n",
        "                [matrix[4],matrix[5],matrix[6],matrix[7]],\n",
        "                [matrix[8],matrix[9],matrix[10],matrix[11]],\n",
        "                [matrix[12],matrix[13],matrix[14],matrix[15]]]\n",
        "  return fourbyfour\n",
        "\n",
        "def fourByFourToSixteen(matrix):\n",
        "  sixteen = [matrix[0][0],matrix[0][1],matrix[0][2],matrix[0][3],\n",
        "             matrix[1][0],matrix[1][1],matrix[1][2],matrix[1][3],\n",
        "             matrix[2][0],matrix[2][1],matrix[2][2],matrix[2][3],\n",
        "             matrix[3][0],matrix[3][1],matrix[3][2],matrix[3][3]]\n",
        "  return sixteen\n",
        "\n",
        "def clockwiseSpinZ(theta):\n",
        "  m = [[math.cos(theta), math.sin(theta), 0, 0],\n",
        "       [-math.sin(theta), math.cos(theta), 0, 0],\n",
        "       [0, 0, 1, 0],\n",
        "       [0, 0, 0, 1]]\n",
        "  return m\n",
        "\n",
        "def clockwiseSpinX(theta):\n",
        "  m = [[1, 0, 0, 0],\n",
        "       [0, math.cos(theta), math.sin(theta), 0],\n",
        "       [0, -math.sin(theta), math.cos(theta), 0],\n",
        "       [0, 0, 0, 1]\n",
        "       ]\n",
        "  return m\n"
      ],
      "execution_count": null,
      "outputs": []
    },
    {
      "cell_type": "markdown",
      "metadata": {
        "id": "ZwgB18HZAu2K"
      },
      "source": [
        "# Dice Control"
      ]
    },
    {
      "cell_type": "code",
      "metadata": {
        "id": "dpE2eN96OPeE"
      },
      "source": [
        "fixed_url = '/api/assemblies/d/did/w/wid/e/eid'\n",
        "\n",
        "# https://cad.onshape.com/documents/f45fad4854ca95357c3937ee/w/947c0b3bc5c329a1c2960014/e/e13b8f1b2de53390ea9d2e34\n",
        "did = 'f45fad4854ca95357c3937ee'\n",
        "wid = '947c0b3bc5c329a1c2960014'\n",
        "eid = 'e13b8f1b2de53390ea9d2e34'\n",
        "\n",
        "method = 'GET'\n",
        "\n",
        "params = {}\n",
        "payload = {}\n",
        "headers = {'Accept': 'application/vnd.onshape.v1+json; charset=UTF-8;qs=0.1',\n",
        "           'Content-Type': 'application/json'}\n",
        "\n",
        "fixed_url = fixed_url.replace('did', did)\n",
        "fixed_url = fixed_url.replace('wid', wid)\n",
        "fixed_url = fixed_url.replace('eid', eid)\n",
        "\n",
        "response = client.api_client.request(method, url=base + fixed_url, query_params=params, headers=headers, body=payload)\n",
        "# print(response.data)\n",
        "# The command below prints the entire JSON response from Onshape\n",
        "occurances = json.loads(response.data)['rootAssembly']['occurrences']\n",
        "for x in occurances:\n",
        "  # print(x['path'])\n",
        "  if x['path'][0] == 'MyTMZjC8CDrpoJtvv':\n",
        "    diceId = x\n",
        "  elif x['path'][0] == 'MPcb81Pj8AzXubNwt':\n",
        "    tcpId = x"
      ],
      "execution_count": null,
      "outputs": []
    },
    {
      "cell_type": "code",
      "metadata": {
        "id": "tTMyrlIMORG4"
      },
      "source": [
        "import numpy\n",
        "def DiceControl(following,value,dicex,dicey,thetaz,thetax,thetay):\n",
        "  ## Get assembly occurances\n",
        "  fixed_url = '/api/assemblies/d/did/w/wid/e/eid'\n",
        "\n",
        "  # https://cad.onshape.com/documents/f45fad4854ca95357c3937ee/w/947c0b3bc5c329a1c2960014/e/e13b8f1b2de53390ea9d2e34\n",
        "  did = 'f45fad4854ca95357c3937ee'\n",
        "  wid = '947c0b3bc5c329a1c2960014'\n",
        "  eid = 'e13b8f1b2de53390ea9d2e34'\n",
        "\n",
        "  method = 'GET'\n",
        "\n",
        "  params = {}\n",
        "  payload = {}\n",
        "  headers = {'Accept': 'application/vnd.onshape.v1+json; charset=UTF-8;qs=0.1',\n",
        "            'Content-Type': 'application/json'}\n",
        "\n",
        "  fixed_url = fixed_url.replace('did', did)\n",
        "  fixed_url = fixed_url.replace('wid', wid)\n",
        "  fixed_url = fixed_url.replace('eid', eid)\n",
        "\n",
        "  response = client.api_client.request(method, url=base + fixed_url, query_params=params, headers=headers, body=payload)\n",
        "\n",
        "  occurances = json.loads(response.data)['rootAssembly']['occurrences']\n",
        "\n",
        "  for x in occurances:\n",
        "    if x['path'][0] == 'MyTMZjC8CDrpoJtvv':\n",
        "      diceOccurence = x\n",
        "    elif x['path'][0] == 'MPcb81Pj8AzXubNwt':\n",
        "      tcpId = x\n",
        "\n",
        "\n",
        "  ## Send assembly occurence transforms\n",
        "  fixed_url = '/api/assemblies/d/did/w/wid/e/eid/occurrencetransforms'\n",
        "\n",
        "  fixed_url = fixed_url.replace('did', did)\n",
        "  fixed_url = fixed_url.replace('wid', wid)\n",
        "  fixed_url = fixed_url.replace('eid', eid)\n",
        "\n",
        "  method = 'POST'\n",
        "\n",
        "  params = {}\n",
        "\n",
        "  if following == True:\n",
        "    payload = {'isRelative':False,\n",
        "              'occurrences':[diceOccurence],\n",
        "              'transform': fourByFourToSixteen(numpy.matmul(sixteenToFourByFour(DiceFollow(DiceMoveSpin(value,0.2,-0.4),tcpId['transform'])),clockwiseSpinX(thetax)))\n",
        "        }\n",
        "  else:\n",
        "    # payload = {'isRelative':False,\n",
        "    #           'occurrences':[diceOccurence],\n",
        "    #           'transform': DiceMoveSpin(getDiceValue()[0],dicex,dicey)\n",
        "    #     }\n",
        "    payload = {'isRelative':False,\n",
        "              'occurrences':[diceOccurence],\n",
        "               'transform': DiceMoveSpin(value,dicex,dicey)\n",
        "              # 'transform': fourByFourToSixteen(numpy.matmul(sixteenToFourByFour(DiceMoveSpin(value,dicex,dicey)),clockwiseSpinZ(thetaz)))\n",
        "        }\n",
        "\n",
        "  headers = {'Accept': 'application/vnd.onshape.v1+json; charset=UTF-8;qs=0.1',\n",
        "            'Content-Type': 'application/json'}\n",
        "\n",
        "  response = client.api_client.request(method, url=base + fixed_url, query_params=params, headers=headers, body=payload)\n"
      ],
      "execution_count": null,
      "outputs": []
    },
    {
      "cell_type": "code",
      "metadata": {
        "id": "vbP7tRZKZAcm"
      },
      "source": [
        "DiceControl(False,3,.2,-.4,0,0.1,0)"
      ],
      "execution_count": null,
      "outputs": []
    },
    {
      "cell_type": "code",
      "metadata": {
        "colab": {
          "base_uri": "https://localhost:8080/"
        },
        "id": "aaFUljspvt0s",
        "outputId": "849948bf-003e-475c-dc0c-b08ff7ae5418"
      },
      "source": [
        "import numpy\n",
        "print(fourByFourToSixteen(numpy.matmul(sixteenToFourByFour(DiceMoveSpin(4,1,2)),clockwiseSpinZ(math.pi/2))))"
      ],
      "execution_count": null,
      "outputs": [
        {
          "output_type": "stream",
          "text": [
            "[6.123233995736766e-17, 1.0, 0.0, 1.0, -1.0, 6.123233995736766e-17, 0.0, 2.0, 0.0, 0.0, 1.0, -0.015, 0.0, 0.0, 0.0, 1.0]\n"
          ],
          "name": "stdout"
        }
      ]
    },
    {
      "cell_type": "markdown",
      "metadata": {
        "id": "9zV1q_aikuUD"
      },
      "source": [
        "# Update Joint Configurations"
      ]
    },
    {
      "cell_type": "code",
      "metadata": {
        "id": "Iosj081gh792"
      },
      "source": [
        "fixed_url = '/api/elements/d/did/w/wid/e/eid/configuration'\n",
        "\n",
        "# https://cad.onshape.com/documents/f45fad4854ca95357c3937ee/w/947c0b3bc5c329a1c2960014/e/e13b8f1b2de53390ea9d2e34\n",
        "did = 'f45fad4854ca95357c3937ee'\n",
        "wid = '947c0b3bc5c329a1c2960014'\n",
        "eid = 'e13b8f1b2de53390ea9d2e34'\n",
        "\n",
        "fixed_url = fixed_url.replace('did', did)\n",
        "fixed_url = fixed_url.replace('wid', wid)\n",
        "fixed_url = fixed_url.replace('eid', eid)\n",
        "\n",
        "# Method below specifies the request type - 'GET' or 'POST'\n",
        "method = 'GET'\n",
        "\n",
        "params = {}\n",
        "payload = {}\n",
        "headers = {'Accept': 'application/vnd.onshape.v1+json; charset=UTF-8;qs=0.1',\n",
        "           'Content-Type': 'application/json'}\n",
        "\n",
        "response = client.api_client.request(method, url=base + fixed_url, query_params=params, headers=headers, body=payload)\n",
        "ConfigInfo = json.loads(response.data)\n",
        "ConfigParams = ConfigInfo[\"configurationParameters\"]\n",
        "\n",
        "for i in range(len(ConfigParams)):\n",
        "  print(ConfigParams[i][\"message\"][\"parameterName\"])\n",
        "  print(ConfigParams[i][\"message\"][\"parameterId\"])\n",
        "  # print(ConfigParams[i][\"message\"][\"rangeAndDefault\"][\"message\"]) # useful info if configurations are variables\n",
        "  "
      ],
      "execution_count": null,
      "outputs": []
    },
    {
      "cell_type": "code",
      "metadata": {
        "id": "nV1WF2vkjW7C"
      },
      "source": [
        "def updateJoints(jointArray):\n",
        "  fixed_url = '/api/elements/d/did/w/wid/e/eid/configuration'\n",
        "\n",
        "  # https://cad.onshape.com/documents/f45fad4854ca95357c3937ee/w/947c0b3bc5c329a1c2960014/e/e13b8f1b2de53390ea9d2e34\n",
        "  did = 'f45fad4854ca95357c3937ee'\n",
        "  wid = '947c0b3bc5c329a1c2960014'\n",
        "  eid = 'e13b8f1b2de53390ea9d2e34'\n",
        "\n",
        "  fixed_url = fixed_url.replace('did', did)\n",
        "  fixed_url = fixed_url.replace('wid', wid)\n",
        "  fixed_url = fixed_url.replace('eid', eid)\n",
        "\n",
        "  # Method below specifies the request type - 'GET' or 'POST'\n",
        "  method = 'POST'\n",
        "\n",
        "  ConfigParams = ConfigInfo[\"configurationParameters\"]\n",
        "  for i in range(len(ConfigParams)):\n",
        "    ConfigParams[i][\"message\"][\"rangeAndDefault\"][\"message\"][\"minValue\"] = jointArray[i]\n",
        "    ConfigParams[i][\"message\"][\"rangeAndDefault\"][\"message\"][\"maxValue\"] = jointArray[i]\n",
        "    ConfigParams[i][\"message\"][\"rangeAndDefault\"][\"message\"][\"defaultValue\"] = jointArray[i]\n",
        "\n",
        "\n",
        "  params = {}\n",
        "  payload = {'configurationParameters': ConfigParams,\n",
        "            'serializationVersion': ConfigInfo[\"serializationVersion\"],\n",
        "            'sourceMicroversion': ConfigInfo[\"sourceMicroversion\"]}\n",
        "  headers = {'Accept': 'application/vnd.onshape.v1+json; charset=UTF-8;qs=0.1',\n",
        "            'Content-Type': 'application/json'}\n",
        "\n",
        "  response = client.api_client.request(method, url=base + fixed_url, query_params=params, headers=headers, body=payload)\n"
      ],
      "execution_count": null,
      "outputs": []
    },
    {
      "cell_type": "markdown",
      "metadata": {
        "id": "MT9-dVsJeuxC"
      },
      "source": [
        "# Update Joint Mate Values"
      ]
    },
    {
      "cell_type": "code",
      "metadata": {
        "colab": {
          "base_uri": "https://localhost:8080/"
        },
        "id": "m24T7h0se0rp",
        "outputId": "53e2aa29-6714-4be2-e31d-7a4b88428c3b"
      },
      "source": [
        "RobotData = [0.1,-0.5,0,0,0,0,0]\n",
        "\n",
        "fixed_url = '/api/assemblies/d/did/w/wid/e/eid/matevalues'\n",
        "\n",
        "# https://cad.onshape.com/documents/f45fad4854ca95357c3937ee/w/947c0b3bc5c329a1c2960014/e/32946638068e1d1428bac606\n",
        "did = 'f45fad4854ca95357c3937ee'\n",
        "wid = '947c0b3bc5c329a1c2960014'\n",
        "eid = '32946638068e1d1428bac606'\n",
        "\n",
        "method = 'GET'\n",
        "\n",
        "params = {}\n",
        "payload = {}\n",
        "headers = {'Accept': 'application/vnd.onshape.v2+json',\n",
        "           'Content-Type': 'application/vnd.onshape.v2+json'}\n",
        "\n",
        "fixed_url = fixed_url.replace('did', did)\n",
        "fixed_url = fixed_url.replace('wid', wid)\n",
        "fixed_url = fixed_url.replace('eid', eid)\n",
        "\n",
        "response = client.api_client.request(method, url=base + fixed_url, query_params=params, headers=headers, body=payload)\n",
        "fullResponse = json.loads(response.data)\n",
        "\n",
        "for i in range(len(fullResponse[\"mateValues\"])):\n",
        "  if fullResponse['mateValues'][i]['mateName'] == \"Base revolve\":\n",
        "    fullResponse['mateValues'][i]['rotationZ'] = RobotData[0]\n",
        "  elif fullResponse['mateValues'][i]['mateName'] == \"Shoulder revolve\":\n",
        "    fullResponse['mateValues'][i]['rotationZ'] = RobotData[1]\n",
        "  elif fullResponse['mateValues'][i]['mateName'] == \"Elbow revolve\":\n",
        "    fullResponse['mateValues'][i]['rotationZ'] = RobotData[2]\n",
        "  elif fullResponse['mateValues'][i]['mateName'] == \"Wrist 1 revolve\":\n",
        "    fullResponse['mateValues'][i]['rotationZ'] = RobotData[3]\n",
        "  elif fullResponse['mateValues'][i]['mateName'] == \"Wrist 2 revolve\":\n",
        "    fullResponse['mateValues'][i]['rotationZ'] = RobotData[4]\n",
        "  elif fullResponse['mateValues'][i]['mateName'] == \"Wrist 3 revolve\":\n",
        "    fullResponse['mateValues'][i]['rotationZ'] = RobotData[5]\n",
        "  elif fullResponse['mateValues'][i]['mateName'] == \"Gripper 1\":\n",
        "    fullResponse['mateValues'][i]['translationZ'] = RobotData[6]\n",
        "\n",
        "method = 'POST'\n",
        "\n",
        "params = {}\n",
        "payload = fullResponse\n",
        "headers = {'Accept': 'application/vnd.onshape.v2+json',\n",
        "           'Content-Type': 'application/vnd.onshape.v2+json'}\n",
        "response = client.api_client.request(method, url=base + fixed_url, query_params=params, headers=headers, body=payload)\n",
        "\n",
        "# The command below prints the entire JSON response from Onshape\n",
        "print(response.status)"
      ],
      "execution_count": null,
      "outputs": [
        {
          "output_type": "stream",
          "text": [
            "200\n"
          ],
          "name": "stdout"
        }
      ]
    },
    {
      "cell_type": "markdown",
      "metadata": {
        "id": "-2SzIHDkQ0EF"
      },
      "source": [
        "# Main Loop"
      ]
    },
    {
      "cell_type": "code",
      "metadata": {
        "id": "n-3hlJGa9bXT"
      },
      "source": [
        "import time\n",
        "while True:\n",
        "  # updateValue(str(getDiceValue()[0]))\n",
        "  time.sleep(0.25)\n",
        "  dicevalarray, UR3array = getUR3Data()\n",
        "  try:\n",
        "    updateJoints(UR3array)\n",
        "    if dicevalarray[4] == 1:\n",
        "      DiceControl(dicevalarray[3],dicevalarray[0],0.143,-0.312,0,0,0)\n",
        "    else:\n",
        "      DiceControl(dicevalarray[3],dicevalarray[0],dicevalarray[1]*0.001+0.16,dicevalarray[2]*-0.001,0,0,0)\n",
        "  except:\n",
        "    print('fail')"
      ],
      "execution_count": null,
      "outputs": []
    }
  ]
}